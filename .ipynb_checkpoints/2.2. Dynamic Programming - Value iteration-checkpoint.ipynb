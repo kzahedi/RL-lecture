{
 "cells": [
  {
   "cell_type": "code",
   "execution_count": null,
   "metadata": {
    "collapsed": false
   },
   "outputs": [],
   "source": [
    "using PyPlot"
   ]
  },
  {
   "cell_type": "markdown",
   "metadata": {},
   "source": [
    "##### Plot functions"
   ]
  },
  {
   "cell_type": "code",
   "execution_count": null,
   "metadata": {
    "collapsed": false
   },
   "outputs": [],
   "source": [
    "function draw_arrow(i::Int64, j::Int64, action::Symbol, dim::(Int64, Int64), changed::Bool)\n",
    "    NX = dim[2]\n",
    "    NY = dim[1]+1\n",
    "    offset = 0.1\n",
    "    if action == :north\n",
    "        #plot([i-1+offset, i-0.5, i-offset, i-1+offset], [NY-j-1+offset, NY-j-offset, NY-j-1+offset, NY-j-1+offset], color=\"blue\", lw=2)\n",
    "        arrow(i-0.5, NY-j-0.9, 0, +0.3, 0, head_width=0.5, head_length=0.5, lw=3, edgecolor=\"black\", facecolor = (changed?\"red\":\"blue\"))\n",
    "    elseif action == :south\n",
    "        #plot([i-1+offset, i-0.5, i-offset, i-1+offset], [NY-j-offset, NY-j-1+offset, NY-j-offset, NY-j-offset], color=\"blue\", lw=2)\n",
    "        arrow(i-0.5, NY-j-0.1, 0, -0.3, 0, head_width=0.5, head_length=0.5, lw=3, edgecolor=\"black\", facecolor = (changed?\"red\":\"blue\"))\n",
    "    elseif action == :east\n",
    "        #plot([i-1+offset, i-1+offset, i-offset, i-1+offset], [NY-j-offset, NY-j-1+offset, NY-j-0.5, NY-j-offset], color=\"blue\", lw=2)\n",
    "        arrow(i-0.9, NY-j-0.5, +0.3, 0, head_width=0.5, head_length=0.5, lw=3, edgecolor=\"black\", facecolor = (changed?\"red\":\"blue\"))\n",
    "    elseif action == :west\n",
    "        #plot([i-offset, i-offset, i-1+offset, i-offset], [NY-j-offset, NY-j-1+offset, NY-j-0.5, NY-j-offset], color=\"blue\", lw=2)\n",
    "        arrow(i-0.1, NY-j-0.5, -0.3, 0, head_width=0.5, head_length=0.5, lw=3, edgecolor=\"black\", facecolor = (changed?\"red\":\"blue\"))\n",
    "    end\n",
    "end\n",
    "\n",
    "function plot_data(maze::Matrix{Char}, policy::Matrix{Symbol}, V::Matrix{Float64}, old_policy::Any)\n",
    "    s = (size(V)[2]*1.1, size(V)[1] .* 0.5)\n",
    "    figure(figsize=s)\n",
    "    subplot(121)\n",
    "    xticks([])\n",
    "    yticks([])\n",
    "    xlim([1,size(V)[2]-1])\n",
    "    ylim([1,size(V)[1]-1])\n",
    "\n",
    "    for i = 1:size(V)[2]-2\n",
    "        plot([i,i],[0,size(V)[1]], color=\"black\")\n",
    "    end\n",
    "    for i = 1:size(V)[1]-2\n",
    "        plot([0,size(V)[2]], [i,i], color=\"black\")\n",
    "    end\n",
    "    \n",
    "    for i = 2:size(V)[1]-1\n",
    "        for j = 2:size(V)[2]-1\n",
    "            changed = false\n",
    "            if old_policy != nothing\n",
    "                changed = (policy[i, j] != old_policy[i,j])\n",
    "            end\n",
    "            draw_arrow(j, i, policy[i, j], size(V), changed)\n",
    "            #draw_arrow(j, i, :west, size(V))\n",
    "        end\n",
    "    end\n",
    "    subplot(122)\n",
    "    colorbar(imshow(V[2:end-1,2:end-1], interpolation=\"none\"))\n",
    "    xticks([])\n",
    "    yticks([])\n",
    "    c_values = [v>-100?v:0 for v in V]\n",
    "    clim([minimum(c_values),maximum(c_values)])\n",
    "end"
   ]
  },
  {
   "cell_type": "markdown",
   "metadata": {},
   "source": [
    "##### Convert definition to maze representation"
   ]
  },
  {
   "cell_type": "code",
   "execution_count": null,
   "metadata": {
    "collapsed": false
   },
   "outputs": [],
   "source": [
    "function convert_string_to_string_array(s::String)\n",
    "    index = 1\n",
    "    while s[index] == ' ' || s[index] == '\\n'\n",
    "        index = index + 1\n",
    "    end\n",
    "    maze = nothing\n",
    "    row = []\n",
    "    for i=index:length(s)\n",
    "        if s[i] == '\\n'\n",
    "            if maze == nothing\n",
    "                maze = row\n",
    "            else\n",
    "                maze = hcat(maze, row)\n",
    "            end\n",
    "            row = []\n",
    "        else\n",
    "            row = [row, s[i]]\n",
    "        end\n",
    "    end\n",
    "    return maze'\n",
    "end\n",
    "\n",
    "\n",
    "\n",
    "function create_experiment_setup(definition::String)\n",
    "    actions = [:north, :east, :south, :west, :none]\n",
    "\n",
    "    maze   = convert_string_to_string_array(maze_definition)\n",
    "    V      = zeros(size(maze))\n",
    "    policy = reshape([actions[int64(ceil(rand() * (length(actions)-1)))] for i = 1:length(maze)], size(maze))\n",
    "\n",
    "    for i=1:length(maze)\n",
    "        if maze[i] in ['#', 'T']\n",
    "            V[i] = state_reward_function[maze[i]]\n",
    "            policy[i] = :none\n",
    "        end\n",
    "    end\n",
    "\n",
    "    return maze, policy, V\n",
    "end"
   ]
  },
  {
   "cell_type": "markdown",
   "metadata": {},
   "source": [
    "# Value iteration"
   ]
  },
  {
   "cell_type": "code",
   "execution_count": null,
   "metadata": {
    "collapsed": false
   },
   "outputs": [],
   "source": [
    "function policy_iteration!(maze::Matrix{Char}, policy::Matrix{Symbol}, V::Matrix{Float64}, first::Bool)\n",
    "    for i = 2:size(maze)[1]-1\n",
    "        for j = 2:size(maze)[2]-1\n",
    "            if maze[i,j] == ' '\n",
    "                possible_actions = []\n",
    "                action_values = []\n",
    "                if maze[i-1,j] != '#'\n",
    "                    possible_actions = [possible_actions, :north]\n",
    "                    action_values    = [action_values, V[i-1, j]]\n",
    "                end\n",
    "                if maze[i+1,j] != '#'\n",
    "                    possible_actions = [possible_actions, :south]\n",
    "                    action_values    = [action_values, V[i+1, j]]\n",
    "                end\n",
    "\n",
    "                if maze[i,j-1] != '#'\n",
    "                    possible_actions = [possible_actions, :west]\n",
    "                    action_values    = [action_values, V[i, j-1]]\n",
    "                end\n",
    "                if maze[i,j+1] != '#'\n",
    "                    possible_actions = [possible_actions, :east]\n",
    "                    action_values    = [action_values, V[i, j+1]]\n",
    "                end\n",
    "                best_action_value = maximum(action_values)\n",
    "                possible_actions = possible_actions[findin(action_values,best_action_value)]\n",
    "                action = possible_actions[int(ceil(rand() * length(possible_actions)))] # random\n",
    "                policy[i,j] = action\n",
    "            end\n",
    "        end\n",
    "    end\n",
    "end\n",
    "\n",
    "function value_iteration!(maze::Matrix{Char}, policy::Matrix{Symbol}, V::Matrix{Float64}, first::Bool)\n",
    "    new_values = copy(V)\n",
    "    γ = 0.9\n",
    "    iterations = 0\n",
    "    for i = 2:size(V)[1] - 1\n",
    "        for j = 2:size(V)[2] - 1\n",
    "            if maze[i,j] == ' '\n",
    "                values = [γ * V[i-1,j] - 1.0, γ * V[i+1,j] - 1.0, γ * V[i,j+1] - 1.0, γ * V[i,j-1] - 1.0]\n",
    "                new_values[i,j] = maximum(values)\n",
    "            end\n",
    "        end\n",
    "    end\n",
    "    δ = maximum(abs(V .- new_values))\n",
    "    println(\"δ = $δ\")\n",
    "    for i=2:size(V)[1] - 1\n",
    "        for j=2:size(V)[2] - 1\n",
    "            V[i,j] = new_values[i,j]\n",
    "        end\n",
    "    end\n",
    "    #    println(\"Nr. of iterations $iterations, error $δ\")\n",
    "    old_policy = copy(policy)\n",
    "    policy_iteration!(maze, policy, V, first)\n",
    "    if first == true\n",
    "        plot_data(maze, policy, V, nothing)\n",
    "    else\n",
    "        plot_data(maze, policy, V, old_policy)\n",
    "    end\n",
    "end"
   ]
  },
  {
   "cell_type": "code",
   "execution_count": null,
   "metadata": {
    "collapsed": false
   },
   "outputs": [],
   "source": [
    "maze_definition = \"\n",
    "###########\n",
    "#T        #\n",
    "#         #\n",
    "#   #     #\n",
    "#     #   #\n",
    "#  #      #\n",
    "#         #\n",
    "#   #    T#\n",
    "###########\n",
    "\"\n",
    "\n",
    "state_reward_function = ['T' => 0.0, '#' => -100];\n",
    "\n",
    "maze, policy, V = create_experiment_setup(maze_definition);\n",
    "value_iteration!(maze, policy, V, true)"
   ]
  },
  {
   "cell_type": "code",
   "execution_count": null,
   "metadata": {
    "collapsed": false
   },
   "outputs": [],
   "source": [
    "value_iteration!(maze, policy, V, false)"
   ]
  },
  {
   "cell_type": "code",
   "execution_count": null,
   "metadata": {
    "collapsed": false
   },
   "outputs": [],
   "source": [
    "value_iteration!(maze, policy, V, false)"
   ]
  },
  {
   "cell_type": "code",
   "execution_count": null,
   "metadata": {
    "collapsed": false
   },
   "outputs": [],
   "source": [
    "value_iteration!(maze, policy, V, false)"
   ]
  },
  {
   "cell_type": "code",
   "execution_count": null,
   "metadata": {
    "collapsed": false
   },
   "outputs": [],
   "source": [
    "value_iteration!(maze, policy, V, false)"
   ]
  },
  {
   "cell_type": "code",
   "execution_count": null,
   "metadata": {
    "collapsed": false
   },
   "outputs": [],
   "source": [
    "value_iteration!(maze, policy, V, false)"
   ]
  },
  {
   "cell_type": "code",
   "execution_count": null,
   "metadata": {
    "collapsed": false
   },
   "outputs": [],
   "source": [
    "value_iteration!(maze, policy, V, false)"
   ]
  },
  {
   "cell_type": "code",
   "execution_count": null,
   "metadata": {
    "collapsed": false
   },
   "outputs": [],
   "source": [
    "value_iteration!(maze, policy, V)"
   ]
  },
  {
   "cell_type": "code",
   "execution_count": null,
   "metadata": {
    "collapsed": false
   },
   "outputs": [],
   "source": [
    "value_iteration!(maze, policy, V)"
   ]
  },
  {
   "cell_type": "code",
   "execution_count": null,
   "metadata": {
    "collapsed": false
   },
   "outputs": [],
   "source": [
    "value_iteration!(maze, policy, V)"
   ]
  },
  {
   "cell_type": "code",
   "execution_count": null,
   "metadata": {
    "collapsed": false
   },
   "outputs": [],
   "source": [
    "value_iteration!(maze, policy, V)"
   ]
  },
  {
   "cell_type": "code",
   "execution_count": null,
   "metadata": {
    "collapsed": false
   },
   "outputs": [],
   "source": [
    "value_iteration!(maze, policy, V)"
   ]
  },
  {
   "cell_type": "code",
   "execution_count": null,
   "metadata": {
    "collapsed": true
   },
   "outputs": [],
   "source": []
  },
  {
   "cell_type": "code",
   "execution_count": null,
   "metadata": {
    "collapsed": true
   },
   "outputs": [],
   "source": []
  }
 ],
 "metadata": {
  "kernelspec": {
   "display_name": "Julia 0.3.6",
   "language": "julia",
   "name": "julia 0.3"
  },
  "language_info": {
   "name": "julia",
   "version": "0.3.7"
  }
 },
 "nbformat": 4,
 "nbformat_minor": 0
}

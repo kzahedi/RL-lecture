{
 "cells": [
  {
   "cell_type": "code",
   "execution_count": 16,
   "metadata": {
    "collapsed": false
   },
   "outputs": [
    {
     "data": {
      "text/plain": [
       "Dict{Char,Any} with 2 entries:\n",
       "  '#' => -100\n",
       "  'T' => 0.0"
      ]
     },
     "execution_count": 16,
     "metadata": {},
     "output_type": "execute_result"
    }
   ],
   "source": [
    "maze_definition = \"\n",
    "#######\n",
    "#T    #\n",
    "#     #\n",
    "#     #\n",
    "#     #\n",
    "#    T#\n",
    "#######\n",
    "\"\n",
    "\n",
    "state_reward_function = ['T' => 0.0, '#' => -100]"
   ]
  },
  {
   "cell_type": "markdown",
   "metadata": {},
   "source": [
    "# Convert definition to maze representation"
   ]
  },
  {
   "cell_type": "code",
   "execution_count": 17,
   "metadata": {
    "collapsed": false
   },
   "outputs": [
    {
     "data": {
      "text/plain": [
       "7x7 Array{Float64,2}:\n",
       " -100.0  -100.0  -100.0  -100.0  -100.0  -100.0  -100.0\n",
       " -100.0     0.0     0.0     0.0     0.0     0.0  -100.0\n",
       " -100.0     0.0     0.0     0.0     0.0     0.0  -100.0\n",
       " -100.0     0.0     0.0     0.0     0.0     0.0  -100.0\n",
       " -100.0     0.0     0.0     0.0     0.0     0.0  -100.0\n",
       " -100.0     0.0     0.0     0.0     0.0     0.0  -100.0\n",
       " -100.0  -100.0  -100.0  -100.0  -100.0  -100.0  -100.0"
      ]
     },
     "execution_count": 17,
     "metadata": {},
     "output_type": "execute_result"
    }
   ],
   "source": [
    "function convert_string_to_string_array(s::String)\n",
    "    index = 1\n",
    "    while s[index] == ' ' || s[index] == '\\n'\n",
    "        index = index + 1\n",
    "    end\n",
    "    maze = nothing\n",
    "    row = []\n",
    "    for i=index:length(s)\n",
    "        if s[i] == '\\n'\n",
    "            if maze == nothing\n",
    "                maze = row\n",
    "            else\n",
    "                maze = hcat(maze, row)\n",
    "            end\n",
    "            row = []\n",
    "        else\n",
    "            row = [row, s[i]]\n",
    "        end\n",
    "    end\n",
    "    return maze\n",
    "end\n",
    "\n",
    "actions = [:north, :east, :south, :west, :none]\n",
    "\n",
    "maze   = convert_string_to_string_array(maze_definition)\n",
    "V      = zeros(size(maze))\n",
    "policy = reshape([actions[int64(ceil(rand() * (length(actions)-1)))] for i = 1:length(maze)], (7,7))\n",
    "for i=1:length(maze)\n",
    "    if maze[i] in ['#', 'T']\n",
    "        V[i] = state_reward_function[maze[i]]\n",
    "        policy[i] = :none\n",
    "    end\n",
    "end\n",
    "V"
   ]
  },
  {
   "cell_type": "code",
   "execution_count": 18,
   "metadata": {
    "collapsed": false
   },
   "outputs": [
    {
     "data": {
      "text/plain": [
       "update_greedy_policy! (generic function with 1 method)"
      ]
     },
     "execution_count": 18,
     "metadata": {},
     "output_type": "execute_result"
    }
   ],
   "source": [
    "function update_greedy_policy!(maze::Matrix{Char}, policy::Matrix{Any}, V::Matrix{Float64})\n",
    "    for i = 2:size(maze)[1]-1\n",
    "        for j = 2:size(maze)[2]-1\n",
    "            if maze[i,j] == ' '\n",
    "                possible_actions = []\n",
    "                action_values = []\n",
    "                if maze[i-1,j] != '#'\n",
    "                    possible_actions = [possible_actions, :north]\n",
    "                    action_values    = [action_values, V[i-1, j]]\n",
    "                end\n",
    "                if maze[i+1,j] != '#'\n",
    "                    possible_actions = [possible_actions, :south]\n",
    "                    action_values    = [action_values, V[i+1, j]]\n",
    "                end\n",
    "\n",
    "                if maze[i,j-1] != '#'\n",
    "                    possible_actions = [possible_actions, :west]\n",
    "                    action_values    = [action_values, V[i, j-1]]\n",
    "                end\n",
    "                if maze[i,j+1] != '#'\n",
    "                    possible_actions = [possible_actions, :east]\n",
    "                    action_values    = [action_values, V[i, j+1]]\n",
    "                end\n",
    "                best_action_value = maximum(action_values)\n",
    "                possible_actions = possible_actions[findin(action_values,best_action_value)]\n",
    "                action = possible_actions[int(ceil(rand() * length(possible_actions)))]\n",
    "                policy[i,j] = action\n",
    "            end\n",
    "        end\n",
    "    end\n",
    "end"
   ]
  },
  {
   "cell_type": "code",
   "execution_count": 19,
   "metadata": {
    "collapsed": false
   },
   "outputs": [
    {
     "data": {
      "text/plain": [
       "update_state_value_function (generic function with 1 method)"
      ]
     },
     "execution_count": 19,
     "metadata": {},
     "output_type": "execute_result"
    }
   ],
   "source": [
    "function update_state_value_function(maze::Matrix{Char}, policy::Matrix{Any}, V::Matrix{Float64})\n",
    "    new_values = zeros(size(V))\n",
    "    delta = 100.0\n",
    "    while delta > 1.0\n",
    "        for i=2:size(V)[1] - 1\n",
    "            for j = 2:size(V)[2] - 1\n",
    "                if policy[i,j] == :north\n",
    "                    new_values[i,j] = V[i-1,j] - 1.0 # -1.0 for transition\n",
    "                elseif policy[i,j] == :south\n",
    "                    new_values[i,j] = V[i+1,j] - 1.0 # -1.0 for transition\n",
    "                elseif policy[i,j] == :east\n",
    "                    new_values[i,j] = V[i,j+1] - 1.0 # -1.0 for transition\n",
    "                elseif policy[i,j] == :west\n",
    "                    new_values[i,j] = V[i,j-1] - 1.0 # -1.0 for transition\n",
    "                else\n",
    "                    new_values[i,j] = V[i,j] # terminal states\n",
    "                end\n",
    "            end\n",
    "        end\n",
    "        delta = maximum(abs(new_values[2:end-1,2:end-1] .- V[2:end-1,2:end-1]))\n",
    "        for i=2:size(V)[1] - 1\n",
    "            for j=2:size(V)[2] - 1\n",
    "                V[i,j] = new_values[i,j]\n",
    "            end\n",
    "        end\n",
    "        println(delta)\n",
    "    end\n",
    "end"
   ]
  },
  {
   "cell_type": "code",
   "execution_count": 20,
   "metadata": {
    "collapsed": false
   },
   "outputs": [
    {
     "data": {
      "text/plain": [
       "7x7 Array{Any,2}:\n",
       " :none  :none   :none   :none   :none   :none   :none\n",
       " :none  :none   :south  :west   :south  :south  :none\n",
       " :none  :south  :north  :north  :west   :west   :none\n",
       " :none  :north  :south  :west   :south  :south  :none\n",
       " :none  :north  :south  :north  :west   :south  :none\n",
       " :none  :east   :east   :north  :north  :none   :none\n",
       " :none  :none   :none   :none   :none   :none   :none"
      ]
     },
     "execution_count": 20,
     "metadata": {},
     "output_type": "execute_result"
    }
   ],
   "source": [
    "update_greedy_policy!(maze, policy, V)\n",
    "policy"
   ]
  },
  {
   "cell_type": "code",
   "execution_count": 21,
   "metadata": {
    "collapsed": false
   },
   "outputs": [
    {
     "name": "stdout",
     "output_type": "stream",
     "text": [
      "1.0\n"
     ]
    },
    {
     "data": {
      "text/plain": [
       "7x7 Array{Float64,2}:\n",
       " -100.0  -100.0  -100.0  -100.0  -100.0  -100.0  -100.0\n",
       " -100.0     0.0    -1.0    -1.0    -1.0    -1.0  -100.0\n",
       " -100.0    -1.0    -1.0    -1.0    -1.0    -1.0  -100.0\n",
       " -100.0    -1.0    -1.0    -1.0    -1.0    -1.0  -100.0\n",
       " -100.0    -1.0    -1.0    -1.0    -1.0    -1.0  -100.0\n",
       " -100.0    -1.0    -1.0    -1.0    -1.0     0.0  -100.0\n",
       " -100.0  -100.0  -100.0  -100.0  -100.0  -100.0  -100.0"
      ]
     },
     "execution_count": 21,
     "metadata": {},
     "output_type": "execute_result"
    }
   ],
   "source": [
    "update_state_value_function(maze, policy, V)\n",
    "V"
   ]
  },
  {
   "cell_type": "code",
   "execution_count": 22,
   "metadata": {
    "collapsed": false
   },
   "outputs": [
    {
     "data": {
      "text/plain": [
       "7x7 Array{Any,2}:\n",
       " :none  :none   :none   :none   :none   :none   :none\n",
       " :none  :none   :west   :west   :east   :west   :none\n",
       " :none  :north  :east   :east   :east   :south  :none\n",
       " :none  :east   :west   :north  :east   :north  :none\n",
       " :none  :north  :south  :west   :south  :south  :none\n",
       " :none  :north  :east   :north  :east   :none   :none\n",
       " :none  :none   :none   :none   :none   :none   :none"
      ]
     },
     "execution_count": 22,
     "metadata": {},
     "output_type": "execute_result"
    }
   ],
   "source": [
    "update_greedy_policy!(maze, policy, V)\n",
    "policy"
   ]
  },
  {
   "cell_type": "code",
   "execution_count": 23,
   "metadata": {
    "collapsed": false
   },
   "outputs": [
    {
     "name": "stdout",
     "output_type": "stream",
     "text": [
      "1.0\n"
     ]
    },
    {
     "data": {
      "text/plain": [
       "7x7 Array{Float64,2}:\n",
       " -100.0  -100.0  -100.0  -100.0  -100.0  -100.0  -100.0\n",
       " -100.0     0.0    -1.0    -2.0    -2.0    -2.0  -100.0\n",
       " -100.0    -1.0    -2.0    -2.0    -2.0    -2.0  -100.0\n",
       " -100.0    -2.0    -2.0    -2.0    -2.0    -2.0  -100.0\n",
       " -100.0    -2.0    -2.0    -2.0    -2.0    -1.0  -100.0\n",
       " -100.0    -2.0    -2.0    -2.0    -1.0     0.0  -100.0\n",
       " -100.0  -100.0  -100.0  -100.0  -100.0  -100.0  -100.0"
      ]
     },
     "execution_count": 23,
     "metadata": {},
     "output_type": "execute_result"
    }
   ],
   "source": [
    "update_state_value_function(maze, policy, V)\n",
    "V"
   ]
  },
  {
   "cell_type": "code",
   "execution_count": 24,
   "metadata": {
    "collapsed": false
   },
   "outputs": [
    {
     "data": {
      "text/plain": [
       "7x7 Array{Any,2}:\n",
       " :none  :none   :none   :none   :none  :none   :none\n",
       " :none  :none   :west   :west   :east  :west   :none\n",
       " :none  :north  :west   :north  :east  :west   :none\n",
       " :none  :north  :south  :south  :west  :south  :none\n",
       " :none  :north  :west   :west   :east  :south  :none\n",
       " :none  :east   :west   :east   :east  :none   :none\n",
       " :none  :none   :none   :none   :none  :none   :none"
      ]
     },
     "execution_count": 24,
     "metadata": {},
     "output_type": "execute_result"
    }
   ],
   "source": [
    "update_greedy_policy!(maze, policy, V)\n",
    "policy"
   ]
  },
  {
   "cell_type": "code",
   "execution_count": 25,
   "metadata": {
    "collapsed": false
   },
   "outputs": [
    {
     "name": "stdout",
     "output_type": "stream",
     "text": [
      "1.0\n"
     ]
    },
    {
     "data": {
      "text/plain": [
       "7x7 Array{Float64,2}:\n",
       " -100.0  -100.0  -100.0  -100.0  -100.0  -100.0  -100.0\n",
       " -100.0     0.0    -1.0    -2.0    -3.0    -3.0  -100.0\n",
       " -100.0    -1.0    -2.0    -3.0    -3.0    -3.0  -100.0\n",
       " -100.0    -2.0    -3.0    -3.0    -3.0    -2.0  -100.0\n",
       " -100.0    -3.0    -3.0    -3.0    -2.0    -1.0  -100.0\n",
       " -100.0    -3.0    -3.0    -2.0    -1.0     0.0  -100.0\n",
       " -100.0  -100.0  -100.0  -100.0  -100.0  -100.0  -100.0"
      ]
     },
     "execution_count": 25,
     "metadata": {},
     "output_type": "execute_result"
    }
   ],
   "source": [
    "update_state_value_function(maze, policy, V)\n",
    "V"
   ]
  },
  {
   "cell_type": "code",
   "execution_count": 26,
   "metadata": {
    "collapsed": false
   },
   "outputs": [
    {
     "data": {
      "text/plain": [
       "7x7 Array{Any,2}:\n",
       " :none  :none   :none  :none   :none   :none   :none\n",
       " :none  :none   :west  :west   :west   :south  :none\n",
       " :none  :north  :west  :north  :south  :south  :none\n",
       " :none  :north  :west  :north  :east   :south  :none\n",
       " :none  :north  :west  :south  :east   :south  :none\n",
       " :none  :east   :east  :east   :east   :none   :none\n",
       " :none  :none   :none  :none   :none   :none   :none"
      ]
     },
     "execution_count": 26,
     "metadata": {},
     "output_type": "execute_result"
    }
   ],
   "source": [
    "update_greedy_policy!(maze, policy, V)\n",
    "policy"
   ]
  },
  {
   "cell_type": "code",
   "execution_count": 27,
   "metadata": {
    "collapsed": false
   },
   "outputs": [
    {
     "name": "stdout",
     "output_type": "stream",
     "text": [
      "1.0\n"
     ]
    },
    {
     "data": {
      "text/plain": [
       "7x7 Array{Float64,2}:\n",
       " -100.0  -100.0  -100.0  -100.0  -100.0  -100.0  -100.0\n",
       " -100.0     0.0    -1.0    -2.0    -3.0    -4.0  -100.0\n",
       " -100.0    -1.0    -2.0    -3.0    -4.0    -3.0  -100.0\n",
       " -100.0    -2.0    -3.0    -4.0    -3.0    -2.0  -100.0\n",
       " -100.0    -3.0    -4.0    -3.0    -2.0    -1.0  -100.0\n",
       " -100.0    -4.0    -3.0    -2.0    -1.0     0.0  -100.0\n",
       " -100.0  -100.0  -100.0  -100.0  -100.0  -100.0  -100.0"
      ]
     },
     "execution_count": 27,
     "metadata": {},
     "output_type": "execute_result"
    }
   ],
   "source": [
    "update_state_value_function(maze, policy, V)\n",
    "V"
   ]
  },
  {
   "cell_type": "code",
   "execution_count": 28,
   "metadata": {
    "collapsed": false
   },
   "outputs": [
    {
     "data": {
      "text/plain": [
       "7x7 Array{Any,2}:\n",
       " :none  :none   :none   :none   :none   :none   :none\n",
       " :none  :none   :west   :west   :west   :south  :none\n",
       " :none  :north  :west   :north  :south  :south  :none\n",
       " :none  :north  :west   :south  :south  :south  :none\n",
       " :none  :north  :north  :east   :south  :south  :none\n",
       " :none  :east   :east   :east   :east   :none   :none\n",
       " :none  :none   :none   :none   :none   :none   :none"
      ]
     },
     "execution_count": 28,
     "metadata": {},
     "output_type": "execute_result"
    }
   ],
   "source": [
    "update_greedy_policy!(maze, policy, V)\n",
    "policy"
   ]
  },
  {
   "cell_type": "code",
   "execution_count": 29,
   "metadata": {
    "collapsed": false
   },
   "outputs": [
    {
     "name": "stdout",
     "output_type": "stream",
     "text": [
      "0.0\n"
     ]
    },
    {
     "data": {
      "text/plain": [
       "7x7 Array{Float64,2}:\n",
       " -100.0  -100.0  -100.0  -100.0  -100.0  -100.0  -100.0\n",
       " -100.0     0.0    -1.0    -2.0    -3.0    -4.0  -100.0\n",
       " -100.0    -1.0    -2.0    -3.0    -4.0    -3.0  -100.0\n",
       " -100.0    -2.0    -3.0    -4.0    -3.0    -2.0  -100.0\n",
       " -100.0    -3.0    -4.0    -3.0    -2.0    -1.0  -100.0\n",
       " -100.0    -4.0    -3.0    -2.0    -1.0     0.0  -100.0\n",
       " -100.0  -100.0  -100.0  -100.0  -100.0  -100.0  -100.0"
      ]
     },
     "execution_count": 29,
     "metadata": {},
     "output_type": "execute_result"
    }
   ],
   "source": [
    "update_state_value_function(maze, policy, V)\n",
    "V"
   ]
  },
  {
   "cell_type": "code",
   "execution_count": null,
   "metadata": {
    "collapsed": true
   },
   "outputs": [],
   "source": []
  },
  {
   "cell_type": "code",
   "execution_count": null,
   "metadata": {
    "collapsed": true
   },
   "outputs": [],
   "source": []
  }
 ],
 "metadata": {
  "kernelspec": {
   "display_name": "Julia 0.3.6",
   "language": "julia",
   "name": "julia 0.3"
  },
  "language_info": {
   "name": "julia",
   "version": "0.3.6"
  }
 },
 "nbformat": 4,
 "nbformat_minor": 0
}

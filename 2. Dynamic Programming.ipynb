{
 "cells": [
  {
   "cell_type": "code",
   "execution_count": 1,
   "metadata": {
    "collapsed": false
   },
   "outputs": [
    {
     "name": "stderr",
     "output_type": "stream",
     "text": [
      "INFO: Loading help data...\n"
     ]
    }
   ],
   "source": [
    "using PyPlot"
   ]
  },
  {
   "cell_type": "code",
   "execution_count": 1,
   "metadata": {
    "collapsed": false
   },
   "outputs": [],
   "source": [
    "type Maze\n",
    "    definition::String\n",
    "    string_states::Matrix{Char}\n",
    "    maze::Matrix{Int64}\n",
    "    values::Vector{Int64}\n",
    "    policy::Vector{String}\n",
    "    special_values::Dict{Any, Any}\n",
    "end"
   ]
  },
  {
   "cell_type": "code",
   "execution_count": 2,
   "metadata": {
    "collapsed": false
   },
   "outputs": [
    {
     "data": {
      "text/plain": [
       "Dict{Any,Any} with 2 entries:\n",
       "  ' ' => -1\n",
       "  'T' => 0"
      ]
     },
     "execution_count": 2,
     "metadata": {},
     "output_type": "execute_result"
    }
   ],
   "source": [
    "maze_def=\"\n",
    "#######\n",
    "#T    #\n",
    "#A    #\n",
    "#     #\n",
    "#     #\n",
    "#    T#\n",
    "#######\n",
    "\"\n",
    "\n",
    "state_values = {'T' => 0, ' ' => -1}"
   ]
  },
  {
   "cell_type": "code",
   "execution_count": 11,
   "metadata": {
    "collapsed": false
   },
   "outputs": [
    {
     "data": {
      "text/plain": [
       "update_value_function! (generic function with 1 method)"
      ]
     },
     "execution_count": 11,
     "metadata": {},
     "output_type": "execute_result"
    }
   ],
   "source": [
    "function convert_string_to_string_array(s::String)\n",
    "    index = 1\n",
    "    while s[index] == ' ' || s[index] == '\\n'\n",
    "        index = index + 1\n",
    "    end\n",
    "    maze = nothing\n",
    "    row = []\n",
    "    for i=index:length(s)\n",
    "        if s[i] == '\\n'\n",
    "            if maze == nothing\n",
    "                maze = row\n",
    "            else\n",
    "                maze = hcat(maze, row)\n",
    "            end\n",
    "            row = []\n",
    "        else\n",
    "            row = [row, s[i]]\n",
    "        end\n",
    "    end\n",
    "    return maze\n",
    "end\n",
    "\n",
    "function name_states(maze::Matrix{Char})\n",
    "    states = zeros(size(maze))\n",
    "    state_name = 1\n",
    "    for i=1:size(maze)[1]\n",
    "        for j=1:size(maze)[2]\n",
    "            if maze[i,j] == '#'\n",
    "                states[i,j] = 0\n",
    "            elseif maze[i,j] == ' '\n",
    "                states[i,j] = state_name\n",
    "                state_name = state_name + 1\n",
    "            else\n",
    "                states[i,j] = -1    \n",
    "            end\n",
    "        end\n",
    "    end\n",
    "    int64(states)\n",
    "end\n",
    "\n",
    "initialise_value_function(maze::Matrix{Int64}) = zeros(maximum(maze))\n",
    "\n",
    "function greedy_policy!(m::Maze)\n",
    "    maze   = m.maze\n",
    "    values = m.values\n",
    "    m.policy = [\"\" for i=1:length(values)]\n",
    "    for i = 2:size(maze)[1]-1\n",
    "        for j = 2:size(maze)[2]-1\n",
    "            if maze[i,j] > 0\n",
    "                possible_actions = []\n",
    "                action_values = []\n",
    "                if maze[i,j-1] > 0\n",
    "                    possible_actions = [possible_actions, \"north\"]\n",
    "                    action_values    = [action_values, values[maze[i,j-1]]]\n",
    "                end\n",
    "                if maze[i,j+1] > 0\n",
    "                    possible_actions = [possible_actions, \"south\"]\n",
    "                    action_values    = [action_values, values[maze[i,j+1]]]\n",
    "                end\n",
    "\n",
    "                if maze[i-1,j] > 0\n",
    "                    possible_actions = [possible_actions, \"west\"]\n",
    "                    action_values    = [action_values, values[maze[i-1,j]]]\n",
    "                end\n",
    "                if maze[i+1,j] > 0\n",
    "                    possible_actions = [possible_actions, \"east\"]\n",
    "                    action_values    = [action_values, values[maze[i+1,j]]]\n",
    "                end\n",
    "                best_action_value = maximum(action_values)\n",
    "                possible_actions = possible_actions[findin(action_values,best_action_value)]\n",
    "                action = possible_actions[int(ceil(rand() * length(possible_actions)))]\n",
    "                m.policy[maze[i,j]] = action\n",
    "            end\n",
    "        end\n",
    "    end\n",
    "end\n",
    "\n",
    "\n",
    "function create_maze_element(maze::String, state_values::Dict{Any, Any})\n",
    "    string_states = convert_string_to_string_array(maze)\n",
    "    named_states = name_states(string_states)\n",
    "    values = initialise_value_function(named_states)\n",
    "    m = Maze(maze, string_states, named_states, values, [], state_values)\n",
    "    greedy_policy!(m)\n",
    "    m\n",
    "end\n",
    "\n",
    "\n",
    "function update_value_function!(m::Maze)\n",
    "    m\n",
    "end"
   ]
  },
  {
   "cell_type": "code",
   "execution_count": 12,
   "metadata": {
    "collapsed": false
   },
   "outputs": [
    {
     "data": {
      "text/plain": [
       "Maze(\"\\n#######\\n#T    #\\n#A    #\\n#     #\\n#     #\\n#    T#\\n#######\\n\",7x7 Array{Char,2}:\n",
       " '#'  '#'  '#'  '#'  '#'  '#'  '#'\n",
       " '#'  'T'  'A'  ' '  ' '  ' '  '#'\n",
       " '#'  ' '  ' '  ' '  ' '  ' '  '#'\n",
       " '#'  ' '  ' '  ' '  ' '  ' '  '#'\n",
       " '#'  ' '  ' '  ' '  ' '  ' '  '#'\n",
       " '#'  ' '  ' '  ' '  ' '  'T'  '#'\n",
       " '#'  '#'  '#'  '#'  '#'  '#'  '#',7x7 Array{Int64,2}:\n",
       " 0   0   0   0   0   0  0\n",
       " 0  -1  -1   1   2   3  0\n",
       " 0   4   5   6   7   8  0\n",
       " 0   9  10  11  12  13  0\n",
       " 0  14  15  16  17  18  0\n",
       " 0  19  20  21  22  -1  0\n",
       " 0   0   0   0   0   0  0,[0,0,0,0,0,0,0,0,0,0  …  0,0,0,0,0,0,0,0,0,0],String[\"east\",\"south\",\"north\",\"south\",\"east\",\"east\",\"south\",\"west\",\"east\",\"east\"  …  \"north\",\"west\",\"north\",\"west\",\"west\",\"north\",\"west\",\"south\",\"north\",\"north\"],{' '=>-1,'T'=>0})"
      ]
     },
     "execution_count": 12,
     "metadata": {},
     "output_type": "execute_result"
    }
   ],
   "source": [
    "maze = create_maze_element(maze_def, state_values)\n",
    "#maze_state_names = name_states(maze_array)"
   ]
  },
  {
   "cell_type": "code",
   "execution_count": 13,
   "metadata": {
    "collapsed": false
   },
   "outputs": [],
   "source": [
    "greedy_policy!(maze)"
   ]
  },
  {
   "cell_type": "code",
   "execution_count": null,
   "metadata": {
    "collapsed": true
   },
   "outputs": [],
   "source": []
  }
 ],
 "metadata": {
  "kernelspec": {
   "display_name": "Julia 0.3.6",
   "language": "julia",
   "name": "julia 0.3"
  },
  "language_info": {
   "name": "julia",
   "version": "0.3.6"
  }
 },
 "nbformat": 4,
 "nbformat_minor": 0
}

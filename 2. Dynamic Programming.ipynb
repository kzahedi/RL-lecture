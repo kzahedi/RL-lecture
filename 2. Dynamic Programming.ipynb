{
 "cells": [
  {
   "cell_type": "code",
   "execution_count": 1,
   "metadata": {
    "collapsed": false
   },
   "outputs": [
    {
     "name": "stderr",
     "output_type": "stream",
     "text": [
      "INFO: Loading help data...\n"
     ]
    }
   ],
   "source": [
    "using PyPlot"
   ]
  },
  {
   "cell_type": "code",
   "execution_count": 1,
   "metadata": {
    "collapsed": false
   },
   "outputs": [],
   "source": [
    "type Maze\n",
    "    definition::String\n",
    "    special_values::Dict{Char, Int64}\n",
    "    string_states::Matrix{Char}\n",
    "    maze::Matrix{Int64}\n",
    "    neighbours::Dict{Int64, Vector{Int64}}\n",
    "    neighbour_positions::Dict{Int64, Vector{(Int64,Int64)}}\n",
    "    values::Vector{Int64}\n",
    "    policy::Vector{Symbol}\n",
    "end"
   ]
  },
  {
   "cell_type": "code",
   "execution_count": null,
   "metadata": {
    "collapsed": false
   },
   "outputs": [],
   "source": []
  },
  {
   "cell_type": "code",
   "execution_count": 2,
   "metadata": {
    "collapsed": false
   },
   "outputs": [
    {
     "data": {
      "text/plain": [
       "Dict{Char,Int64} with 2 entries:\n",
       "  ' ' => -1\n",
       "  'T' => 0"
      ]
     },
     "execution_count": 2,
     "metadata": {},
     "output_type": "execute_result"
    }
   ],
   "source": [
    "maze_def=\"\n",
    "#######\n",
    "#T    #\n",
    "#     #\n",
    "#     #\n",
    "#     #\n",
    "#    T#\n",
    "#######\n",
    "\"\n",
    "\n",
    "state_values = ['T' => 0, ' ' => -1]"
   ]
  },
  {
   "cell_type": "code",
   "execution_count": 35,
   "metadata": {
    "collapsed": false
   },
   "outputs": [
    {
     "data": {
      "text/plain": [
       "update_value_function! (generic function with 1 method)"
      ]
     },
     "execution_count": 35,
     "metadata": {},
     "output_type": "execute_result"
    }
   ],
   "source": [
    "function convert_string_to_string_array(s::String)\n",
    "    index = 1\n",
    "    while s[index] == ' ' || s[index] == '\\n'\n",
    "        index = index + 1\n",
    "    end\n",
    "    maze = nothing\n",
    "    row = []\n",
    "    for i=index:length(s)\n",
    "        if s[i] == '\\n'\n",
    "            if maze == nothing\n",
    "                maze = row\n",
    "            else\n",
    "                maze = hcat(maze, row)\n",
    "            end\n",
    "            row = []\n",
    "        else\n",
    "            row = [row, s[i]]\n",
    "        end\n",
    "    end\n",
    "    return maze\n",
    "end\n",
    "\n",
    "function name_states(maze::Matrix{Char})\n",
    "    states = zeros(size(maze))\n",
    "    state_name = 1\n",
    "    for i=1:size(maze)[1]\n",
    "        for j=1:size(maze)[2]\n",
    "            if maze[i,j] == '#'\n",
    "                states[i,j] = 0\n",
    "            elseif maze[i,j] == ' '\n",
    "                states[i,j] = state_name\n",
    "                state_name = state_name + 1\n",
    "            else\n",
    "                states[i,j] = -1    \n",
    "            end\n",
    "        end\n",
    "    end\n",
    "    int64(states)\n",
    "end\n",
    "\n",
    "initialise_value_function(maze::Matrix{Int64}) = zeros(maximum(maze))\n",
    "\n",
    "function greedy_policy!(m::Maze)\n",
    "    maze   = m.maze\n",
    "    values = m.values\n",
    "    m.policy = [\"\" for i=1:length(values)]\n",
    "    for i = 2:size(maze)[1]-1\n",
    "        for j = 2:size(maze)[2]-1\n",
    "            if maze[i,j] > 0\n",
    "                possible_actions = []\n",
    "                action_values = []\n",
    "                if maze[i,j-1] > 0\n",
    "                    possible_actions = [possible_actions, :north]\n",
    "                    action_values    = [action_values, values[maze[i,j-1]]]\n",
    "                end\n",
    "                if maze[i,j+1] > 0\n",
    "                    possible_actions = [possible_actions, :south]\n",
    "                    action_values    = [action_values, values[maze[i,j+1]]]\n",
    "                end\n",
    "\n",
    "                if maze[i-1,j] > 0\n",
    "                    possible_actions = [possible_actions, :west]\n",
    "                    action_values    = [action_values, values[maze[i-1,j]]]\n",
    "                end\n",
    "                if maze[i+1,j] > 0\n",
    "                    possible_actions = [possible_actions, :east]\n",
    "                    action_values    = [action_values, values[maze[i+1,j]]]\n",
    "                end\n",
    "                best_action_value = maximum(action_values)\n",
    "                possible_actions = possible_actions[findin(action_values,best_action_value)]\n",
    "                action = possible_actions[int(ceil(rand() * length(possible_actions)))]\n",
    "                m.policy[maze[i,j]] = action\n",
    "            end\n",
    "        end\n",
    "    end\n",
    "end\n",
    "\n",
    "function execute_action(action::Symbol)\n",
    "    p = rand()\n",
    "    if p < 0.9\n",
    "        return action\n",
    "    end\n",
    "    p = rand()\n",
    "    if action == :north\n",
    "        if p < 0.5\n",
    "            return :west\n",
    "        else\n",
    "            return :east\n",
    "        end\n",
    "    elseif action == :east\n",
    "        if p < 0.5\n",
    "            return :north\n",
    "        else\n",
    "            return :south\n",
    "        end\n",
    "    elseif action == :south\n",
    "        if p < 0.5\n",
    "            return :west\n",
    "        else\n",
    "            return :east\n",
    "        end\n",
    "    elseif action == :east\n",
    "        if p < 0.5\n",
    "            return :north\n",
    "        else\n",
    "            return :south\n",
    "        end    \n",
    "    end\n",
    "    return nothing\n",
    "end\n",
    "\n",
    "function get_neighbours(named_states::Matrix{Int64})\n",
    "    neighbours = [-1=>[2,3]]\n",
    "    neighbour_positions = [-1 => [(2,2)]]\n",
    "    for i = 2:size(named_states)[1]-1\n",
    "        for j = 2:size(named_states)[2]-1\n",
    "            state_neighbours = []\n",
    "            state_neighbour_positions = [(0,0)]\n",
    "            state_name = named_states[i,j]\n",
    "            if named_states[i-1,j] != 0\n",
    "                state_neighbours = [state_neighbours, named_states[i-1,j]]\n",
    "                state_neighbour_positions = [state_neighbour_positions, (i-1, j)]\n",
    "            end\n",
    "            if named_states[i+1,j] != 0\n",
    "                state_neighbours = [state_neighbours, named_states[i+1,j]]\n",
    "                state_neighbour_positions = [state_neighbour_positions, (i+1, j)]\n",
    "            end\n",
    "            if named_states[i,j-1] != 0\n",
    "                state_neighbours = [state_neighbours, named_states[i,j-1]]\n",
    "                state_neighbour_positions = [state_neighbour_positions, (i, j-1)]\n",
    "            end\n",
    "            if named_states[i,j+1] != 0\n",
    "                state_neighbours = [state_neighbours, named_states[i,j+1]]\n",
    "                state_neighbour_positions = [state_neighbour_positions, (i, j+1)]\n",
    "            end\n",
    "            neighbours[state_name] = state_neighbours\n",
    "            neighbour_positions[state_name] = state_neighbour_positions[2:end]\n",
    "        end\n",
    "    end\n",
    "    pop!(neighbours, -1)\n",
    "    pop!(neighbour_positions, -1)\n",
    "    neighbours, neighbour_positions\n",
    "end\n",
    "\n",
    "string_states = convert_string_to_string_array(maze_def)\n",
    "named_states = name_states(string_states)\n",
    "get_neighbours(named_states)\n",
    "\n",
    "function create_maze_element(maze::String, state_values::Dict{Char, Int64})\n",
    "    string_states = convert_string_to_string_array(maze)\n",
    "    named_states = name_states(string_states)\n",
    "    values = initialise_value_function(named_states)\n",
    "    neighbours, neighbour_positions = get_neighbours(named_states)\n",
    "    m = Maze(maze, state_values, string_states, named_states, neighbours, neighbour_positions, values, [], )\n",
    "    greedy_policy!(m)\n",
    "    m\n",
    "end\n",
    "\n"
   ]
  },
  {
   "cell_type": "code",
   "execution_count": 36,
   "metadata": {
    "collapsed": false
   },
   "outputs": [
    {
     "data": {
      "text/plain": [
       "Maze(\"\\n#######\\n#T    #\\n#     #\\n#     #\\n#     #\\n#    T#\\n#######\\n\",[' '=>-1,'T'=>0],7x7 Array{Char,2}:\n",
       " '#'  '#'  '#'  '#'  '#'  '#'  '#'\n",
       " '#'  'T'  ' '  ' '  ' '  ' '  '#'\n",
       " '#'  ' '  ' '  ' '  ' '  ' '  '#'\n",
       " '#'  ' '  ' '  ' '  ' '  ' '  '#'\n",
       " '#'  ' '  ' '  ' '  ' '  ' '  '#'\n",
       " '#'  ' '  ' '  ' '  ' '  'T'  '#'\n",
       " '#'  '#'  '#'  '#'  '#'  '#'  '#',7x7 Array{Int64,2}:\n",
       " 0   0   0   0   0   0  0\n",
       " 0  -1   1   2   3   4  0\n",
       " 0   5   6   7   8   9  0\n",
       " 0  10  11  12  13  14  0\n",
       " 0  15  16  17  18  19  0\n",
       " 0  20  21  22  23  -1  0\n",
       " 0   0   0   0   0   0  0,[18=>[13,23,17,19],2=>[7,1,3],16=>[11,21,15,17],11=>[6,16,10,12],21=>[16,20,22],7=>[2,12,6,8],9=>[4,14,8],10=>[5,15,11],19=>[14,-1,18],17=>[12,22,16,18],8=>[3,13,7,9],22=>[17,21,23],6=>[1,11,5,7],4=>[9,3],3=>[8,2,4],5=>[-1,10,6],20=>[15,21],23=>[18,22,-1],13=>[8,18,12,14],14=>[9,19,13],15=>[10,20,16],12=>[7,17,11,13],1=>[6,-1,2]],[18=>[(4,5),(6,5),(5,4),(5,6)],2=>[(3,4),(2,3),(2,5)],16=>[(4,3),(6,3),(5,2),(5,4)],11=>[(3,3),(5,3),(4,2),(4,4)],21=>[(5,3),(6,2),(6,4)],7=>[(2,4),(4,4),(3,3),(3,5)],9=>[(2,6),(4,6),(3,5)],10=>[(3,2),(5,2),(4,3)],19=>[(4,6),(6,6),(5,5)],17=>[(4,4),(6,4),(5,3),(5,5)],8=>[(2,5),(4,5),(3,4),(3,6)],22=>[(5,4),(6,3),(6,5)],6=>[(2,3),(4,3),(3,2),(3,4)],4=>[(3,6),(2,5)],3=>[(3,5),(2,4),(2,6)],5=>[(2,2),(4,2),(3,3)],20=>[(5,2),(6,3)],23=>[(5,5),(6,4),(6,6)],13=>[(3,5),(5,5),(4,4),(4,6)],14=>[(3,6),(5,6),(4,5)],15=>[(4,2),(6,2),(5,3)],12=>[(3,4),(5,4),(4,3),(4,5)],1=>[(3,3),(2,2),(2,4)]],[0,0,0,0,0,0,0,0,0,0  …  0,0,0,0,0,0,0,0,0,0],[:south,:south,:south,:north,:east,:east,:south,:north,:west,:south  …  :west,:south,:west,:west,:west,:north,:west,:west,:north,:north])"
      ]
     },
     "execution_count": 36,
     "metadata": {},
     "output_type": "execute_result"
    }
   ],
   "source": [
    "maze = create_maze_element(maze_def, state_values)\n",
    "#maze_state_names = name_states(maze_array)"
   ]
  },
  {
   "cell_type": "code",
   "execution_count": 10,
   "metadata": {
    "collapsed": false
   },
   "outputs": [],
   "source": [
    "greedy_policy!(maze)"
   ]
  },
  {
   "cell_type": "code",
   "execution_count": 63,
   "metadata": {
    "collapsed": false
   },
   "outputs": [
    {
     "name": "stdout",
     "output_type": "stream",
     "text": [
      "[-3,-6,-9,-11,-3,-10,-20,-33,-47,-6,-20,-44,-81,-131,-9,-33,-81,-166,-300,-11,-47,-131,-300]\n",
      "[-19,-22,-25,-27,-3,-26,-52,-81,-111,-6,-36,-92,-177,-291,-9,-49,-145,-326,-620,-11,-63,-211,-540]\n",
      "[-51,-54,-57,-59,-3,-58,-116,-177,-239,-6,-68,-188,-369,-611,-9,-81,-273,-646,-1260,-11,-95,-371,-1020]\n",
      "[-115,-118,-121,-123,-3,-122,-244,-369,-495,-6,-132,-380,-753,-1251,-9,-145,-529,-1286,-2540,-11,-159,-691,-1980]\n",
      "[-243,-246,-249,-251,-3,-250,-500,-753,-1007,-6,-260,-764,-1521,-2531,-9,-273,-1041,-2566,-5100,-11,-287,-1331,-3900]\n",
      "[-499,-502,-505,-507,-3,-506,-1012,-1521,-2031,-6,-516,-1532,-3057,-5091,-9,-529,-2065,-5126,-10220,-11,-543,-2611,-7740]\n",
      "[-1011,-1014,-1017,-1019,-3,-1018,-2036,-3057,-4079,-6,-1028,-3068,-6129,-10211,-9,-1041,-4113,-10246,-20460,-11,-1055,-5171,-15420]\n",
      "[-2035,-2038,-2041,-2043,-3,-2042,-4084,-6129,-8175,-6,-2052,-6140,-12273,-20451,-9,-2065,-8209,-20486,-40940,-11,-2079,-10291,-30780]\n",
      "[-4083,-4086,-4089,-4091,-3,-4090,-8180,-12273,-16367,-6,-4100,-12284,-24561,-40931,-9,-4113,-16401,-40966,-81900,-11,-4127,-20531,-61500]\n",
      "[-8179,-8182,-8185,-8187,-3,-8186,-16372,-24561,-32751,-6,-8196,-24572,-49137,-81891,-9,-8209,-32785,-81926,-163820,-11,-8223,-41011,-122940]\n"
     ]
    }
   ],
   "source": [
    "function update_value_function!(m::Maze)\n",
    "    values = zeros(length(m.values))\n",
    "    for s = 1:length(m.values)\n",
    "        new_value = 0\n",
    "        for neighbour_index = 1:length(m.neighbours[s])\n",
    "            neighbour          = m.neighbours[s][neighbour_index]\n",
    "            neighbour_position = m.neighbour_positions[s][neighbour_index]\n",
    "            if neighbour > 0\n",
    "                new_value = new_value + m.values[neighbour] - 1.0\n",
    "            else\n",
    "                tag = m.string_states[neighbour_position[1],neighbour_position[2]]\n",
    "                new_value = new_value + m.special_values[tag] - 1.0\n",
    "            end\n",
    "        end\n",
    "        values[s] = new_value\n",
    "        delta = maximum(abs(m.values - values))\n",
    "        m.values = [v for v in values]\n",
    "    end\n",
    "end\n",
    "maze = create_maze_element(maze_def, state_values)\n",
    "\n",
    "for i = 1:10\n",
    "update_value_function!(maze)\n",
    "println(maze.values)\n",
    "end"
   ]
  },
  {
   "cell_type": "code",
   "execution_count": 32,
   "metadata": {
    "collapsed": false
   },
   "outputs": [
    {
     "ename": "LoadError",
     "evalue": "unsupported or misplaced expression =>\nwhile loading In[32], in expression starting on line 1",
     "output_type": "error",
     "traceback": [
      "unsupported or misplaced expression =>\nwhile loading In[32], in expression starting on line 1",
      ""
     ]
    }
   ],
   "source": [
    "a[1]=>\"a\""
   ]
  }
 ],
 "metadata": {
  "kernelspec": {
   "display_name": "Julia 0.3.6",
   "language": "julia",
   "name": "julia 0.3"
  },
  "language_info": {
   "name": "julia",
   "version": "0.3.6"
  }
 },
 "nbformat": 4,
 "nbformat_minor": 0
}

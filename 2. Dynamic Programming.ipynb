{
 "cells": [
  {
   "cell_type": "code",
   "execution_count": 1,
   "metadata": {
    "collapsed": false
   },
   "outputs": [
    {
     "name": "stderr",
     "output_type": "stream",
     "text": [
      "INFO: Loading help data...\n"
     ]
    }
   ],
   "source": [
    "using PyPlot"
   ]
  },
  {
   "cell_type": "code",
   "execution_count": 1,
   "metadata": {
    "collapsed": false
   },
   "outputs": [],
   "source": [
    "type Maze\n",
    "    definition::String\n",
    "    special_values::Dict{Char, Int64}\n",
    "    string_states::Matrix{Char}\n",
    "    maze::Matrix{Int64}\n",
    "    neighbours::Dict{Int64, Vector{Int64}}\n",
    "    neighbour_positions::Dict{Int64, Vector{(Int64,Int64)}}\n",
    "    state_coordinate::Dict{Int64, (Int64, Int64)}\n",
    "    values::Vector{Int64}\n",
    "    policy::Vector{Symbol}\n",
    "end"
   ]
  },
  {
   "cell_type": "code",
   "execution_count": null,
   "metadata": {
    "collapsed": false
   },
   "outputs": [],
   "source": []
  },
  {
   "cell_type": "code",
   "execution_count": 2,
   "metadata": {
    "collapsed": false
   },
   "outputs": [
    {
     "data": {
      "text/plain": [
       "Dict{Char,Int64} with 2 entries:\n",
       "  ' ' => -1\n",
       "  'T' => 0"
      ]
     },
     "execution_count": 2,
     "metadata": {},
     "output_type": "execute_result"
    }
   ],
   "source": [
    "maze_def=\"\n",
    "#######\n",
    "#T    #\n",
    "#     #\n",
    "#     #\n",
    "#     #\n",
    "#    T#\n",
    "#######\n",
    "\"\n",
    "\n",
    "state_values = ['T' => 0, ' ' => -1]"
   ]
  },
  {
   "cell_type": "code",
   "execution_count": 45,
   "metadata": {
    "collapsed": false
   },
   "outputs": [
    {
     "data": {
      "text/plain": [
       "print_state_values (generic function with 1 method)"
      ]
     },
     "execution_count": 45,
     "metadata": {},
     "output_type": "execute_result"
    }
   ],
   "source": [
    "function convert_string_to_string_array(s::String)\n",
    "    index = 1\n",
    "    while s[index] == ' ' || s[index] == '\\n'\n",
    "        index = index + 1\n",
    "    end\n",
    "    maze = nothing\n",
    "    row = []\n",
    "    for i=index:length(s)\n",
    "        if s[i] == '\\n'\n",
    "            if maze == nothing\n",
    "                maze = row\n",
    "            else\n",
    "                maze = hcat(maze, row)\n",
    "            end\n",
    "            row = []\n",
    "        else\n",
    "            row = [row, s[i]]\n",
    "        end\n",
    "    end\n",
    "    return maze\n",
    "end\n",
    "\n",
    "function name_states(maze::Matrix{Char})\n",
    "    states = zeros(size(maze))\n",
    "    state_name = 1\n",
    "    for i=1:size(maze)[1]\n",
    "        for j=1:size(maze)[2]\n",
    "            if maze[i,j] == '#'\n",
    "                states[i,j] = 0\n",
    "            elseif maze[i,j] == ' '\n",
    "                states[i,j] = state_name\n",
    "                state_name = state_name + 1\n",
    "            else\n",
    "                states[i,j] = -1    \n",
    "            end\n",
    "        end\n",
    "    end\n",
    "    int64(states)\n",
    "end\n",
    "\n",
    "initialise_value_function(maze::Matrix{Int64}) = zeros(maximum(maze))\n",
    "\n",
    "function get_state_value(m::Maze, i, j)\n",
    "    state = m.maze[i, j]\n",
    "    if state > 0\n",
    "        return m.values[state]\n",
    "    elseif state < 0\n",
    "        label = m.string_states[i,j]\n",
    "        return m.special_values[label]\n",
    "    end\n",
    "    return 0\n",
    "end\n",
    "\n",
    "function greedy_policy!(m::Maze)\n",
    "    maze   = m.maze\n",
    "    values = m.values\n",
    "    m.policy = [\"\" for i=1:length(values)]\n",
    "    for i = 2:size(maze)[1]-1\n",
    "        for j = 2:size(maze)[2]-1\n",
    "            if maze[i,j] > 0\n",
    "                possible_actions = []\n",
    "                action_values = []\n",
    "                if maze[i,j-1] != 0\n",
    "                    possible_actions = [possible_actions, :north]\n",
    "                    action_values    = [action_values, get_state_value(m, i, j-1)]\n",
    "                end\n",
    "                if maze[i,j+1] != 0\n",
    "                    possible_actions = [possible_actions, :south]\n",
    "                    action_values    = [action_values, get_state_value(m, i, j+1)]\n",
    "                end\n",
    "\n",
    "                if maze[i-1,j] != 0\n",
    "                    possible_actions = [possible_actions, :west]\n",
    "                    action_values    = [action_values, get_state_value(m, i-1, j)]\n",
    "                end\n",
    "                if maze[i+1,j] != 0\n",
    "                    possible_actions = [possible_actions, :east]\n",
    "                    action_values    = [action_values, get_state_value(m, i+1, j)]\n",
    "                end\n",
    "                best_action_value = maximum(action_values)\n",
    "                possible_actions = possible_actions[findin(action_values,best_action_value)]\n",
    "                action = possible_actions[int(ceil(rand() * length(possible_actions)))]\n",
    "                m.policy[maze[i,j]] = action\n",
    "            end\n",
    "        end\n",
    "    end\n",
    "end\n",
    "\n",
    "function execute_action(action::Symbol)\n",
    "    p = rand()\n",
    "    if p < 0.8\n",
    "        return action\n",
    "    end\n",
    "    p = rand()\n",
    "    if action == :north\n",
    "        if p < 0.5\n",
    "            return :west\n",
    "        else\n",
    "            return :east\n",
    "        end\n",
    "    elseif action == :east\n",
    "        if p < 0.5\n",
    "            return :north\n",
    "        else\n",
    "            return :south\n",
    "        end\n",
    "    elseif action == :south\n",
    "        if p < 0.5\n",
    "            return :west\n",
    "        else\n",
    "            return :east\n",
    "        end\n",
    "    elseif action == :east\n",
    "        if p < 0.5\n",
    "            return :north\n",
    "        else\n",
    "            return :south\n",
    "        end    \n",
    "    end\n",
    "    return nothing\n",
    "end\n",
    "\n",
    "# deterministic policy\n",
    "function get_action_probability(state::Int64, action::Symbol, policy::Vector{Symbol})\n",
    "    if policy[state] == action\n",
    "        return 1.0\n",
    "    end\n",
    "    return 0.0\n",
    "end\n",
    "\n",
    "function get_neighbours(named_states::Matrix{Int64})\n",
    "    neighbours = [-1=>[2,3]]\n",
    "    neighbour_positions = [-1 => [(2,2)]]\n",
    "    for i = 2:size(named_states)[1]-1\n",
    "        for j = 2:size(named_states)[2]-1\n",
    "            state_neighbours = []\n",
    "            state_neighbour_positions = [(0,0)]\n",
    "            state_name = named_states[i,j]\n",
    "            if named_states[i-1,j] != 0\n",
    "                state_neighbours = [state_neighbours, named_states[i-1,j]]\n",
    "                state_neighbour_positions = [state_neighbour_positions, (i-1, j)]\n",
    "            end\n",
    "            if named_states[i+1,j] != 0\n",
    "                state_neighbours = [state_neighbours, named_states[i+1,j]]\n",
    "                state_neighbour_positions = [state_neighbour_positions, (i+1, j)]\n",
    "            end\n",
    "            if named_states[i,j-1] != 0\n",
    "                state_neighbours = [state_neighbours, named_states[i,j-1]]\n",
    "                state_neighbour_positions = [state_neighbour_positions, (i, j-1)]\n",
    "            end\n",
    "            if named_states[i,j+1] != 0\n",
    "                state_neighbours = [state_neighbours, named_states[i,j+1]]\n",
    "                state_neighbour_positions = [state_neighbour_positions, (i, j+1)]\n",
    "            end\n",
    "            neighbours[state_name] = state_neighbours\n",
    "            neighbour_positions[state_name] = state_neighbour_positions[2:end]\n",
    "        end\n",
    "    end\n",
    "    pop!(neighbours, -1)\n",
    "    pop!(neighbour_positions, -1)\n",
    "    neighbours, neighbour_positions\n",
    "end\n",
    "\n",
    "function get_state_coordinates(states::Matrix{Int64})\n",
    "    coordinates = [-1 => (1,1)]\n",
    "    for i = 2:size(states)[1] - 1\n",
    "        for j = 2:size(states)[2] - 1\n",
    "            coordinates[states[i,j]] = (i,j)\n",
    "        end\n",
    "    end\n",
    "    coordinates\n",
    "end\n",
    "\n",
    "function create_maze_element(maze::String, state_values::Dict{Char, Int64})\n",
    "    string_states = convert_string_to_string_array(maze)\n",
    "    named_states = name_states(string_states)\n",
    "    values = initialise_value_function(named_states)\n",
    "    neighbours, neighbour_positions = get_neighbours(named_states)\n",
    "    state_coordinates = get_state_coordinates(named_states)\n",
    "    m = Maze(maze, state_values, string_states, named_states, neighbours, neighbour_positions, state_coordinates, values, [], )\n",
    "    greedy_policy!(m)\n",
    "    m\n",
    "end\n",
    "\n",
    "\n",
    "function update_value_function!(m::Maze)\n",
    "    values = zeros(length(m.values))\n",
    "    for s = 1:length(m.values)\n",
    "        new_value = 0\n",
    "        for a in [:north, :south, :west, :east]\n",
    "            factor = get_action_probability(s, a, m.policy)\n",
    "            coordinate = m.state_coordinate[s]\n",
    "            if a == :north\n",
    "                new_value = new_value + factor * get_state_value(m, coordinate[1] + 1, coordinate[2]) - 1.0\n",
    "            elseif a == :south\n",
    "                new_value = new_value + factor * get_state_value(m, coordinate[1] - 1, coordinate[2]) - 1.0\n",
    "            elseif a == :west\n",
    "                new_value = new_value + factor * get_state_value(m, coordinate[1], coordinate[2] - 1) - 1.0\n",
    "            elseif a == :east\n",
    "                new_value = new_value + factor * get_state_value(m, coordinate[1], coordinate[2] + 1) - 1.0\n",
    "            end\n",
    "        end\n",
    "        values[s] = new_value\n",
    "        delta = maximum(abs(m.values - values))\n",
    "        m.values = [v for v in values]\n",
    "    end\n",
    "end\n",
    "\n",
    "function print_state_values(m::Maze)\n",
    "    values = zeros(size(m.maze))\n",
    "    for i = 2:size(m.maze)[1]-1\n",
    "        for j = 2:size(m.maze)[2]-1\n",
    "            values[i,j] = get_state_value(m, i, j)\n",
    "        end\n",
    "    end\n",
    "    println(values)\n",
    "end"
   ]
  },
  {
   "cell_type": "code",
   "execution_count": 46,
   "metadata": {
    "collapsed": false
   },
   "outputs": [
    {
     "data": {
      "text/plain": [
       "Maze(\"\\n#######\\n#T    #\\n#     #\\n#     #\\n#     #\\n#    T#\\n#######\\n\",[' '=>-1,'T'=>0],7x7 Array{Char,2}:\n",
       " '#'  '#'  '#'  '#'  '#'  '#'  '#'\n",
       " '#'  'T'  ' '  ' '  ' '  ' '  '#'\n",
       " '#'  ' '  ' '  ' '  ' '  ' '  '#'\n",
       " '#'  ' '  ' '  ' '  ' '  ' '  '#'\n",
       " '#'  ' '  ' '  ' '  ' '  ' '  '#'\n",
       " '#'  ' '  ' '  ' '  ' '  'T'  '#'\n",
       " '#'  '#'  '#'  '#'  '#'  '#'  '#',7x7 Array{Int64,2}:\n",
       " 0   0   0   0   0   0  0\n",
       " 0  -1   1   2   3   4  0\n",
       " 0   5   6   7   8   9  0\n",
       " 0  10  11  12  13  14  0\n",
       " 0  15  16  17  18  19  0\n",
       " 0  20  21  22  23  -1  0\n",
       " 0   0   0   0   0   0  0,[18=>[13,23,17,19],2=>[7,1,3],16=>[11,21,15,17],11=>[6,16,10,12],21=>[16,20,22],7=>[2,12,6,8],9=>[4,14,8],10=>[5,15,11],19=>[14,-1,18],17=>[12,22,16,18],8=>[3,13,7,9],22=>[17,21,23],6=>[1,11,5,7],4=>[9,3],3=>[8,2,4],5=>[-1,10,6],20=>[15,21],23=>[18,22,-1],13=>[8,18,12,14],14=>[9,19,13],15=>[10,20,16],12=>[7,17,11,13],1=>[6,-1,2]],[18=>[(4,5),(6,5),(5,4),(5,6)],2=>[(3,4),(2,3),(2,5)],16=>[(4,3),(6,3),(5,2),(5,4)],11=>[(3,3),(5,3),(4,2),(4,4)],21=>[(5,3),(6,2),(6,4)],7=>[(2,4),(4,4),(3,3),(3,5)],9=>[(2,6),(4,6),(3,5)],10=>[(3,2),(5,2),(4,3)],19=>[(4,6),(6,6),(5,5)],17=>[(4,4),(6,4),(5,3),(5,5)],8=>[(2,5),(4,5),(3,4),(3,6)],22=>[(5,4),(6,3),(6,5)],6=>[(2,3),(4,3),(3,2),(3,4)],4=>[(3,6),(2,5)],3=>[(3,5),(2,4),(2,6)],5=>[(2,2),(4,2),(3,3)],20=>[(5,2),(6,3)],23=>[(5,5),(6,4),(6,6)],13=>[(3,5),(5,5),(4,4),(4,6)],14=>[(3,6),(5,6),(4,5)],15=>[(4,2),(6,2),(5,3)],12=>[(3,4),(5,4),(4,3),(4,5)],1=>[(3,3),(2,2),(2,4)]],[18=>(5,5),2=>(2,4),16=>(5,3),11=>(4,3),21=>(6,3),7=>(3,4),9=>(3,6),10=>(4,2),19=>(5,6),17=>(5,4),8=>(3,5),22=>(6,4),6=>(3,3),4=>(2,6),-1=>(6,6),3=>(2,5),5=>(3,2),20=>(6,2),23=>(6,5),13=>(4,5),14=>(4,6),15=>(5,2),12=>(4,4),1=>(2,3)],[0,0,0,0,0,0,0,0,0,0  …  0,0,0,0,0,0,0,0,0,0],[:south,:south,:south,:east,:east,:east,:south,:north,:east,:west  …  :east,:south,:north,:west,:east,:east,:south,:west,:south,:west])"
      ]
     },
     "execution_count": 46,
     "metadata": {},
     "output_type": "execute_result"
    }
   ],
   "source": [
    "maze = create_maze_element(maze_def, state_values)\n",
    "#maze_state_names = name_states(maze_array)"
   ]
  },
  {
   "cell_type": "code",
   "execution_count": 50,
   "metadata": {
    "collapsed": false
   },
   "outputs": [
    {
     "name": "stdout",
     "output_type": "stream",
     "text": [
      "[0.0 0.0 0.0 0.0 0.0 0.0 0.0\n",
      " 0.0 0.0 -8.0 -4.0 -4.0 -4.0 0.0\n",
      " 0.0 -4.0 -4.0 -8.0 -8.0 -12.0 0.0\n",
      " 0.0 -4.0 -4.0 -8.0 -12.0 -16.0 0.0\n",
      " 0.0 -4.0 -8.0 -4.0 -16.0 -4.0 0.0\n",
      " 0.0 -4.0 -8.0 -12.0 -20.0 0.0 0.0\n",
      " 0.0 0.0 0.0 0.0 0.0 0.0 0.0]\n"
     ]
    }
   ],
   "source": [
    "maze = create_maze_element(maze_def, state_values)\n",
    "\n",
    "for i = 1:1000\n",
    "update_value_function!(maze)\n",
    "greedy_policy!(maze)\n",
    "end\n",
    "\n",
    "print_state_values(maze)"
   ]
  },
  {
   "cell_type": "code",
   "execution_count": 26,
   "metadata": {
    "collapsed": false
   },
   "outputs": [
    {
     "ename": "LoadError",
     "evalue": "unsupported or misplaced expression =>\nwhile loading In[26], in expression starting on line 1",
     "output_type": "error",
     "traceback": [
      "unsupported or misplaced expression =>\nwhile loading In[26], in expression starting on line 1",
      ""
     ]
    }
   ],
   "source": [
    "a[1]=>\"a\""
   ]
  },
  {
   "cell_type": "code",
   "execution_count": null,
   "metadata": {
    "collapsed": true
   },
   "outputs": [],
   "source": []
  }
 ],
 "metadata": {
  "kernelspec": {
   "display_name": "Julia 0.3.6",
   "language": "julia",
   "name": "julia 0.3"
  },
  "language_info": {
   "name": "julia",
   "version": "0.3.6"
  }
 },
 "nbformat": 4,
 "nbformat_minor": 0
}

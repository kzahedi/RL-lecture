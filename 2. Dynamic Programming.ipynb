{
 "cells": [
  {
   "cell_type": "code",
   "execution_count": null,
   "metadata": {
    "collapsed": false
   },
   "outputs": [],
   "source": [
    "using PyPlot"
   ]
  },
  {
   "cell_type": "markdown",
   "metadata": {},
   "source": [
    "##### Plot functions"
   ]
  },
  {
   "cell_type": "code",
   "execution_count": null,
   "metadata": {
    "collapsed": false
   },
   "outputs": [],
   "source": [
    "function draw_arrow(i::Int64, j::Int64, action::Symbol, dim::(Int64, Int64))\n",
    "    NX = dim[1]\n",
    "    NY = dim[2]+1\n",
    "    offset = 0.1\n",
    "    if action == :north\n",
    "        plot([i-1+offset, i-0.5, i-offset, i-1+offset], [NY-j-1+offset, NY-j-offset, NY-j-1+offset, NY-j-1+offset], color=\"blue\", lw=2)\n",
    "    elseif action == :south\n",
    "        plot([i-1+offset, i-0.5, i-offset, i-1+offset], [NY-j-offset, NY-j-1+offset, NY-j-offset, NY-j-offset], color=\"blue\", lw=2)\n",
    "    elseif action == :east\n",
    "        plot([i-1+offset, i-1+offset, i-offset, i-1+offset], [NY-j-offset, NY-j-1+offset, NY-j-0.5, NY-j-offset], color=\"blue\", lw=2)\n",
    "    elseif action == :west\n",
    "        plot([i-offset, i-offset, i-1+offset, i-offset], [NY-j-offset, NY-j-1+offset, NY-j-0.5, NY-j-offset], color=\"blue\", lw=2)\n",
    "    end\n",
    "end\n",
    "\n",
    "function plot_data(maze::Matrix{Char}, policy::Matrix{Symbol}, V::Matrix{Float64})\n",
    "    s = (size(V)[1]*1.1, size(V)[2] .* 0.5)\n",
    "    figure(figsize=s)\n",
    "    subplot(121)\n",
    "    xticks([])\n",
    "    yticks([])\n",
    "    xlim([2,size(V)[1]]-1)\n",
    "    ylim([2,size(V)[2]]-1)\n",
    "\n",
    "    for i = 1:size(V)[1]-2\n",
    "        plot([i,i],[0,size(V)[2]], color=\"black\")\n",
    "    end\n",
    "    for i = 1:size(V)[2]-2\n",
    "        plot([0,size(V)[1]], [i,i], color=\"black\")\n",
    "    end\n",
    "    \n",
    "    for i = 2:size(V)[1]-1\n",
    "        for j = 2:size(V)[2]-1\n",
    "            draw_arrow(j, i, policy[i, j], size(V))\n",
    "            #draw_arrow(j, i, :west, size(V))\n",
    "        end\n",
    "    end\n",
    "    subplot(122)\n",
    "    colorbar(imshow(V[2:end-1,2:end-1], interpolation=\"none\"))\n",
    "    xticks([])\n",
    "    yticks([])\n",
    "    c_values = [v>-100?v:0 for v in V]\n",
    "    clim([maximum(c_values),minimum(c_values)])\n",
    "end"
   ]
  },
  {
   "cell_type": "markdown",
   "metadata": {},
   "source": [
    "##### Convert definition to maze representation"
   ]
  },
  {
   "cell_type": "code",
   "execution_count": null,
   "metadata": {
    "collapsed": false
   },
   "outputs": [],
   "source": [
    "function convert_string_to_string_array(s::String)\n",
    "    index = 1\n",
    "    while s[index] == ' ' || s[index] == '\\n'\n",
    "        index = index + 1\n",
    "    end\n",
    "    maze = nothing\n",
    "    row = []\n",
    "    for i=index:length(s)\n",
    "        if s[i] == '\\n'\n",
    "            if maze == nothing\n",
    "                maze = row\n",
    "            else\n",
    "                maze = hcat(maze, row)\n",
    "            end\n",
    "            row = []\n",
    "        else\n",
    "            row = [row, s[i]]\n",
    "        end\n",
    "    end\n",
    "    return maze'\n",
    "end\n",
    "\n",
    "\n",
    "\n",
    "function create_experiment_setup(definition::String)\n",
    "    actions = [:north, :east, :south, :west, :none]\n",
    "\n",
    "    maze   = convert_string_to_string_array(maze_definition)\n",
    "    V      = zeros(size(maze))\n",
    "    policy = reshape([actions[int64(ceil(rand() * (length(actions)-1)))] for i = 1:length(maze)], size(maze))\n",
    "\n",
    "    for i=1:length(maze)\n",
    "        if maze[i] in ['#', 'T']\n",
    "            V[i] = state_reward_function[maze[i]]\n",
    "            policy[i] = :none\n",
    "        end\n",
    "    end\n",
    "\n",
    "    return maze, policy, V\n",
    "end"
   ]
  },
  {
   "cell_type": "markdown",
   "metadata": {},
   "source": [
    "# Policy iteration"
   ]
  },
  {
   "cell_type": "code",
   "execution_count": null,
   "metadata": {
    "collapsed": false
   },
   "outputs": [],
   "source": [
    "function policy_iteration!(maze::Matrix{Char}, policy::Matrix{Symbol}, V::Matrix{Float64})\n",
    "    for i = 2:size(maze)[1]-1\n",
    "        for j = 2:size(maze)[2]-1\n",
    "            if maze[i,j] == ' '\n",
    "                possible_actions = []\n",
    "                action_values = []\n",
    "                if maze[i-1,j] != '#'\n",
    "                    possible_actions = [possible_actions, :north]\n",
    "                    action_values    = [action_values, V[i-1, j]]\n",
    "                end\n",
    "                if maze[i+1,j] != '#'\n",
    "                    possible_actions = [possible_actions, :south]\n",
    "                    action_values    = [action_values, V[i+1, j]]\n",
    "                end\n",
    "\n",
    "                if maze[i,j-1] != '#'\n",
    "                    possible_actions = [possible_actions, :west]\n",
    "                    action_values    = [action_values, V[i, j-1]]\n",
    "                end\n",
    "                if maze[i,j+1] != '#'\n",
    "                    possible_actions = [possible_actions, :east]\n",
    "                    action_values    = [action_values, V[i, j+1]]\n",
    "                end\n",
    "                best_action_value = maximum(action_values)\n",
    "                possible_actions = possible_actions[findin(action_values,best_action_value)]\n",
    "                action = possible_actions[int(ceil(rand() * length(possible_actions)))]\n",
    "                policy[i,j] = action\n",
    "            end\n",
    "        end\n",
    "    end\n",
    "end"
   ]
  },
  {
   "cell_type": "markdown",
   "metadata": {},
   "source": [
    "# Policy evaluation"
   ]
  },
  {
   "cell_type": "code",
   "execution_count": null,
   "metadata": {
    "collapsed": false
   },
   "outputs": [],
   "source": [
    "function policy_evaluation!(maze::Matrix{Char}, policy::Matrix{Symbol}, V::Matrix{Float64})\n",
    "    new_values = copy(V)\n",
    "    last_values = copy(V)\n",
    "    delta = 100.0\n",
    "    index = 0\n",
    "    while delta > 0.01 && index < 5000\n",
    "        index = index + 1\n",
    "        for i = 2:size(last_values)[1] - 1\n",
    "            for j = 2:size(last_values)[2] - 1\n",
    "                if policy[i,j] == :north\n",
    "                    new_values[i,j] = last_values[i-1,j] - 1.0 # -1.0 for transition\n",
    "                elseif policy[i,j] == :south\n",
    "                    new_values[i,j] = last_values[i+1,j] - 1.0 # -1.0 for transition\n",
    "                elseif policy[i,j] == :east\n",
    "                    new_values[i,j] = last_values[i,j+1] - 1.0 # -1.0 for transition\n",
    "                elseif policy[i,j] == :west\n",
    "                    new_values[i,j] = last_values[i,j-1] - 1.0 # -1.0 for transition\n",
    "                else\n",
    "                    new_values[i,j] = last_values[i,j] # terminal states\n",
    "                end\n",
    "            end\n",
    "        end\n",
    "        delta = maximum(abs(new_values[2:end-1,2:end-1] .- last_values[2:end-1,2:end-1]))\n",
    "        avg   = mean((new_values[2:end-1, 2:end-1] .- last_values[2:end-1,2:end-1])^2)\n",
    "        last_values = copy(new_values)\n",
    "    end\n",
    "    for i=2:size(V)[1] - 1\n",
    "        for j=2:size(V)[2] - 1\n",
    "            V[i,j] = new_values[i,j]\n",
    "        end\n",
    "    end\n",
    "    println(\"Number of iterations: $index\")\n",
    "end"
   ]
  },
  {
   "cell_type": "markdown",
   "metadata": {},
   "source": [
    "### Experiment"
   ]
  },
  {
   "cell_type": "code",
   "execution_count": null,
   "metadata": {
    "collapsed": false
   },
   "outputs": [],
   "source": []
  },
  {
   "cell_type": "markdown",
   "metadata": {},
   "source": [
    "#### Initialisation & Policy iteration 1"
   ]
  },
  {
   "cell_type": "code",
   "execution_count": null,
   "metadata": {
    "collapsed": false
   },
   "outputs": [],
   "source": [
    "maze_definition = \"\n",
    "#########\n",
    "#T      #\n",
    "#       #\n",
    "#   #   #\n",
    "#     # #\n",
    "#  #    #\n",
    "#       #\n",
    "#   #  T#\n",
    "#########\n",
    "\"\n",
    "\n",
    "\n",
    "state_reward_function = ['T' => 0.0, '#' => -100];\n",
    "\n",
    "\n",
    "maze, policy, V = create_experiment_setup(maze_definition);\n",
    "\n",
    "policy_iteration!(maze, policy, V)\n",
    "plot_data(maze, policy, V)"
   ]
  },
  {
   "cell_type": "markdown",
   "metadata": {},
   "source": [
    "#### Policy <i><u> evaluation </u></i> 1"
   ]
  },
  {
   "cell_type": "code",
   "execution_count": null,
   "metadata": {
    "collapsed": false,
    "scrolled": false
   },
   "outputs": [],
   "source": [
    "policy_evaluation!(maze, policy, V)\n",
    "plot_data(maze, policy, V)\n",
    "#println(V)\n",
    "#println(policy)"
   ]
  },
  {
   "cell_type": "markdown",
   "metadata": {},
   "source": [
    "#### Policy <i><u> iteration </u></i> 2"
   ]
  },
  {
   "cell_type": "code",
   "execution_count": null,
   "metadata": {
    "collapsed": false
   },
   "outputs": [],
   "source": [
    "policy_iteration!(maze, policy, V)\n",
    "plot_data(maze, policy, V)\n",
    "#println(V)\n",
    "#println(policy)"
   ]
  },
  {
   "cell_type": "markdown",
   "metadata": {},
   "source": [
    "#### Policy <i><u> evaluation </u></i> 2"
   ]
  },
  {
   "cell_type": "code",
   "execution_count": null,
   "metadata": {
    "collapsed": false
   },
   "outputs": [],
   "source": [
    "policy_evaluation!(maze, policy, V)\n",
    "plot_data(maze, policy, V)\n",
    "#println(V)\n",
    "#println(policy)"
   ]
  },
  {
   "cell_type": "markdown",
   "metadata": {},
   "source": [
    "#### Policy <i><u> iteration </u></i> 3"
   ]
  },
  {
   "cell_type": "code",
   "execution_count": null,
   "metadata": {
    "collapsed": false
   },
   "outputs": [],
   "source": [
    "policy_iteration!(maze, policy, V)\n",
    "plot_data(maze, policy, V)\n",
    "#println(V)\n",
    "#println(policy)"
   ]
  },
  {
   "cell_type": "markdown",
   "metadata": {},
   "source": [
    "#### Policy <i><u> evaluation </u></i> 3"
   ]
  },
  {
   "cell_type": "code",
   "execution_count": null,
   "metadata": {
    "collapsed": false
   },
   "outputs": [],
   "source": [
    "policy_evaluation!(maze, policy, V)\n",
    "plot_data(maze, policy, V)\n",
    "#println(V)\n",
    "#println(policy)"
   ]
  },
  {
   "cell_type": "markdown",
   "metadata": {},
   "source": [
    "#### Policy <i><u> iteration </u></i> 4"
   ]
  },
  {
   "cell_type": "code",
   "execution_count": null,
   "metadata": {
    "collapsed": false
   },
   "outputs": [],
   "source": [
    "policy_iteration!(maze, policy, V)\n",
    "plot_data(maze, policy, V)\n",
    "#println(V)\n",
    "#println(policy)"
   ]
  },
  {
   "cell_type": "markdown",
   "metadata": {},
   "source": [
    "#### Policy <i><u> evaluation </u></i> 4"
   ]
  },
  {
   "cell_type": "code",
   "execution_count": null,
   "metadata": {
    "collapsed": false
   },
   "outputs": [],
   "source": [
    "policy_evaluation!(maze, policy, V)\n",
    "plot_data(maze, policy, V)\n",
    "#println(V)\n",
    "#println(policy)"
   ]
  },
  {
   "cell_type": "markdown",
   "metadata": {},
   "source": [
    "#### Policy <i><u> iteration </u></i> 5"
   ]
  },
  {
   "cell_type": "code",
   "execution_count": null,
   "metadata": {
    "collapsed": false
   },
   "outputs": [],
   "source": [
    "policy_iteration!(maze, policy, V)\n",
    "plot_data(maze, policy, V)\n",
    "#println(V)\n",
    "#println(policy)"
   ]
  },
  {
   "cell_type": "markdown",
   "metadata": {},
   "source": [
    "#### Policy <i><u> evaluation </u></i> 5"
   ]
  },
  {
   "cell_type": "code",
   "execution_count": null,
   "metadata": {
    "collapsed": false
   },
   "outputs": [],
   "source": [
    "policy_evaluation!(maze, policy, V)\n",
    "plot_data(maze, policy, V)\n",
    "#println(V)\n",
    "#println(policy)"
   ]
  },
  {
   "cell_type": "markdown",
   "metadata": {
    "collapsed": true
   },
   "source": [
    "#### Policy iteration 6"
   ]
  },
  {
   "cell_type": "code",
   "execution_count": null,
   "metadata": {
    "collapsed": false
   },
   "outputs": [],
   "source": [
    "policy_iteration!(maze, policy, V)\n",
    "plot_data(maze, policy, V)\n",
    "#println(V)\n",
    "#println(policy)"
   ]
  },
  {
   "cell_type": "markdown",
   "metadata": {},
   "source": [
    "#### Policy evalution 6"
   ]
  },
  {
   "cell_type": "code",
   "execution_count": null,
   "metadata": {
    "collapsed": false
   },
   "outputs": [],
   "source": [
    "policy_evaluation!(maze, policy, V)\n",
    "plot_data(maze, policy, V)\n",
    "#println(V)\n",
    "#println(policy)"
   ]
  },
  {
   "cell_type": "markdown",
   "metadata": {},
   "source": [
    "# Value iteration"
   ]
  },
  {
   "cell_type": "code",
   "execution_count": null,
   "metadata": {
    "collapsed": false
   },
   "outputs": [],
   "source": [
    "function value_iteration!(maze::Matrix{Char}, policy::Matrix{Symbol}, V::Matrix{Float64})\n",
    "    new_values = copy(V)\n",
    "    for i = 2:size(V)[1] - 1\n",
    "        for j = 2:size(V)[2] - 1\n",
    "            if policy[i,j] == :north\n",
    "                new_values[i,j] = V[i-1,j] - 1.0 # -1.0 for transition\n",
    "                elseif policy[i,j] == :south\n",
    "                new_values[i,j] = V[i+1,j] - 1.0 # -1.0 for transition\n",
    "                elseif policy[i,j] == :east\n",
    "                new_values[i,j] = V[i,j+1] - 1.0 # -1.0 for transition\n",
    "            elseif policy[i,j] == :west\n",
    "                new_values[i,j] = V[i,j-1] - 1.0 # -1.0 for transition\n",
    "            else\n",
    "                new_values[i,j] = V[i,j] # terminal states\n",
    "            end\n",
    "        end\n",
    "    end\n",
    "    for i=2:size(V)[1] - 1\n",
    "        for j=2:size(V)[2] - 1\n",
    "            V[i,j] = new_values[i,j]\n",
    "        end\n",
    "    end\n",
    "    policy_iteration!(maze, policy, V)\n",
    "end"
   ]
  },
  {
   "cell_type": "code",
   "execution_count": null,
   "metadata": {
    "collapsed": false
   },
   "outputs": [],
   "source": [
    "maze_definition = \"\n",
    "#########\n",
    "#T      #\n",
    "#       #\n",
    "#   #   #\n",
    "#     # #\n",
    "#  #    #\n",
    "#       #\n",
    "#   #  T#\n",
    "#########\n",
    "\"\n",
    "\n",
    "\n",
    "state_reward_function = ['T' => 0.0, '#' => -100]\n",
    "\n",
    "maze_definition = \"\n",
    "#########\n",
    "#T      #\n",
    "#       #\n",
    "#   #   #\n",
    "#     # #\n",
    "#  #    #\n",
    "#       #\n",
    "#   #  T#\n",
    "#########\n",
    "\"\n",
    "\n",
    "\n",
    "state_reward_function = ['T' => 0.0, '#' => -100];\n",
    "\n",
    "\n",
    "maze, policy, V = create_experiment_setup(maze_definition);\n",
    "\n",
    "value_iteration!(maze, policy, V)\n",
    "plot_data(maze, policy, V)"
   ]
  },
  {
   "cell_type": "code",
   "execution_count": null,
   "metadata": {
    "collapsed": false
   },
   "outputs": [],
   "source": [
    "value_iteration!(maze, policy, V)\n",
    "plot_data(maze, policy, V)"
   ]
  },
  {
   "cell_type": "code",
   "execution_count": null,
   "metadata": {
    "collapsed": false
   },
   "outputs": [],
   "source": [
    "value_iteration!(maze, policy, V)\n",
    "plot_data(maze, policy, V)"
   ]
  },
  {
   "cell_type": "code",
   "execution_count": null,
   "metadata": {
    "collapsed": false
   },
   "outputs": [],
   "source": [
    "value_iteration!(maze, policy, V)\n",
    "plot_data(maze, policy, V)"
   ]
  },
  {
   "cell_type": "code",
   "execution_count": null,
   "metadata": {
    "collapsed": false
   },
   "outputs": [],
   "source": [
    "value_iteration!(maze, policy, V)\n",
    "plot_data(maze, policy, V)"
   ]
  },
  {
   "cell_type": "code",
   "execution_count": null,
   "metadata": {
    "collapsed": false
   },
   "outputs": [],
   "source": [
    "value_iteration!(maze, policy, V)\n",
    "plot_data(maze, policy, V)"
   ]
  },
  {
   "cell_type": "code",
   "execution_count": null,
   "metadata": {
    "collapsed": false
   },
   "outputs": [],
   "source": [
    "value_iteration!(maze, policy, V)\n",
    "plot_data(maze, policy, V)"
   ]
  },
  {
   "cell_type": "code",
   "execution_count": null,
   "metadata": {
    "collapsed": false
   },
   "outputs": [],
   "source": [
    "value_iteration!(maze, policy, V)\n",
    "plot_data(maze, policy, V)"
   ]
  },
  {
   "cell_type": "code",
   "execution_count": null,
   "metadata": {
    "collapsed": false
   },
   "outputs": [],
   "source": [
    "value_iteration!(maze, policy, V)\n",
    "plot_data(maze, policy, V)"
   ]
  },
  {
   "cell_type": "code",
   "execution_count": null,
   "metadata": {
    "collapsed": true
   },
   "outputs": [],
   "source": []
  }
 ],
 "metadata": {
  "kernelspec": {
   "display_name": "Julia 0.3.6",
   "language": "julia",
   "name": "julia 0.3"
  },
  "language_info": {
   "name": "julia",
   "version": "0.3.6"
  }
 },
 "nbformat": 4,
 "nbformat_minor": 0
}

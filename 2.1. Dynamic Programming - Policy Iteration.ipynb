{
 "cells": [
  {
   "cell_type": "code",
   "execution_count": null,
   "metadata": {
    "collapsed": false
   },
   "outputs": [],
   "source": [
    "using PyPlot"
   ]
  },
  {
   "cell_type": "markdown",
   "metadata": {},
   "source": [
    "##### Plot functions"
   ]
  },
  {
   "cell_type": "code",
   "execution_count": null,
   "metadata": {
    "collapsed": false
   },
   "outputs": [],
   "source": [
    "function draw_arrow(i::Int64, j::Int64, action::Symbol, dim::(Int64, Int64), changed::Bool)\n",
    "    NX = dim[2]\n",
    "    NY = dim[1]+1\n",
    "    offset = 0.1\n",
    "    if action == :north\n",
    "        arrow(i-0.5, NY-j-0.9, 0, +0.3, 0, head_width=0.5, head_length=0.5, lw=1, edgecolor=\"black\", facecolor = (changed?\"red\":\"blue\"))\n",
    "    elseif action == :south\n",
    "        arrow(i-0.5, NY-j-0.1, 0, -0.3, 0, head_width=0.5, head_length=0.5, lw=1, edgecolor=\"black\", facecolor = (changed?\"red\":\"blue\"))\n",
    "    elseif action == :east\n",
    "        arrow(i-0.9, NY-j-0.5, +0.3, 0, head_width=0.5, head_length=0.5, lw=1, edgecolor=\"black\", facecolor = (changed?\"red\":\"blue\"))\n",
    "    elseif action == :west\n",
    "        arrow(i-0.1, NY-j-0.5, -0.3, 0, head_width=0.5, head_length=0.5, lw=1, edgecolor=\"black\", facecolor = (changed?\"red\":\"blue\"))\n",
    "    end\n",
    "end\n",
    "\n",
    "function plot_data(maze::Matrix{Char}, policy::Matrix{Symbol}, V::Matrix{Float64}, old_policy::Any)\n",
    "    s = (size(V)[2]*0.6, size(V)[1] .* 0.25)\n",
    "    figure(figsize=s)\n",
    "    subplot(121)\n",
    "    xticks([])\n",
    "    yticks([])\n",
    "    xlim([1,size(V)[2]-1])\n",
    "    ylim([1,size(V)[1]-1])\n",
    "\n",
    "    for i = 1:size(V)[2]-2\n",
    "        plot([i,i],[0,size(V)[1]], color=\"black\")\n",
    "    end\n",
    "    for i = 1:size(V)[1]-2\n",
    "        plot([0,size(V)[2]], [i,i], color=\"black\")\n",
    "    end\n",
    "    \n",
    "    for i = 2:size(V)[1]-1\n",
    "        for j = 2:size(V)[2]-1\n",
    "            changed = false\n",
    "            if old_policy != nothing\n",
    "                changed = (policy[i, j] != old_policy[i,j])\n",
    "            end\n",
    "            draw_arrow(j, i, policy[i, j], size(V), changed)\n",
    "            #draw_arrow(j, i, :west, size(V))\n",
    "        end\n",
    "    end\n",
    "    subplot(122)\n",
    "    colorbar(imshow(V[2:end-1,2:end-1], interpolation=\"none\"))\n",
    "    xticks([])\n",
    "    yticks([])\n",
    "    c_values = [v>-100?v:0 for v in V]\n",
    "    clim([minimum(c_values),maximum(c_values)])\n",
    "end"
   ]
  },
  {
   "cell_type": "markdown",
   "metadata": {},
   "source": [
    "##### Convert definition to maze representation"
   ]
  },
  {
   "cell_type": "code",
   "execution_count": null,
   "metadata": {
    "collapsed": false
   },
   "outputs": [],
   "source": [
    "function convert_string_to_string_array(s::String)\n",
    "    index = 1\n",
    "    while s[index] == ' ' || s[index] == '\\n'\n",
    "        index = index + 1\n",
    "    end\n",
    "    maze = nothing\n",
    "    row = []\n",
    "    for i=index:length(s)\n",
    "        if s[i] == '\\n'\n",
    "            if maze == nothing\n",
    "                maze = row\n",
    "            else\n",
    "                maze = hcat(maze, row)\n",
    "            end\n",
    "            row = []\n",
    "        else\n",
    "            row = [row, s[i]]\n",
    "        end\n",
    "    end\n",
    "    return maze'\n",
    "end\n",
    "\n",
    "\n",
    "\n",
    "function create_experiment_setup(definition::String)\n",
    "    actions = [:north, :east, :south, :west, :none]\n",
    "\n",
    "    maze   = convert_string_to_string_array(maze_definition)\n",
    "    V      = zeros(size(maze))\n",
    "    policy = reshape([actions[int64(ceil(rand() * (length(actions)-1)))] for i = 1:length(maze)], size(maze))\n",
    "\n",
    "    for i=1:length(maze)\n",
    "        if maze[i] in ['#', 'T']\n",
    "            V[i] = state_reward_function[maze[i]]\n",
    "            policy[i] = :none\n",
    "        end\n",
    "    end\n",
    "\n",
    "    return maze, policy, V\n",
    "end"
   ]
  },
  {
   "cell_type": "markdown",
   "metadata": {},
   "source": [
    "# Policy iteration"
   ]
  },
  {
   "cell_type": "code",
   "execution_count": null,
   "metadata": {
    "collapsed": false
   },
   "outputs": [],
   "source": [
    "function policy_iteration!(maze::Matrix{Char}, policy::Matrix{Symbol}, V::Matrix{Float64})\n",
    "    old_policy = copy(policy)\n",
    "    for i = 2:size(maze)[1]-1\n",
    "        for j = 2:size(maze)[2]-1\n",
    "            if maze[i,j] == ' '\n",
    "                possible_actions = []\n",
    "                action_values = []\n",
    "                if maze[i-1,j] != '#'\n",
    "                    possible_actions = [possible_actions, :north]\n",
    "                    action_values    = [action_values, V[i-1, j]]\n",
    "                end\n",
    "                if maze[i+1,j] != '#'\n",
    "                    possible_actions = [possible_actions, :south]\n",
    "                    action_values    = [action_values, V[i+1, j]]\n",
    "                end\n",
    "\n",
    "                if maze[i,j-1] != '#'\n",
    "                    possible_actions = [possible_actions, :west]\n",
    "                    action_values    = [action_values, V[i, j-1]]\n",
    "                end\n",
    "                if maze[i,j+1] != '#'\n",
    "                    possible_actions = [possible_actions, :east]\n",
    "                    action_values    = [action_values, V[i, j+1]]\n",
    "                end\n",
    "                best_action_value = maximum(action_values)\n",
    "                possible_actions = possible_actions[findin(action_values,best_action_value)]\n",
    "                action = possible_actions[int(ceil(rand() * length(possible_actions)))] # random\n",
    "                policy[i,j] = action\n",
    "            end\n",
    "        end\n",
    "    end\n",
    "    plot_data(maze, policy, V, old_policy)\n",
    "end"
   ]
  },
  {
   "cell_type": "markdown",
   "metadata": {},
   "source": [
    "# Policy evaluation"
   ]
  },
  {
   "cell_type": "code",
   "execution_count": null,
   "metadata": {
    "collapsed": false
   },
   "outputs": [],
   "source": [
    "function policy_evaluation!(maze::Matrix{Char}, policy::Matrix{Symbol}, V::Matrix{Float64})\n",
    "    old_policy = copy(policy)\n",
    "    new_values = copy(V)\n",
    "    last_values = copy(V)\n",
    "    δ = 100.0\n",
    "    index = 0\n",
    "    γ = 0.9\n",
    "    while δ > 0.00000001 && index < 5000\n",
    "        index = index + 1\n",
    "        for i = 2:size(last_values)[1] - 1\n",
    "            for j = 2:size(last_values)[2] - 1\n",
    "                if policy[i,j] == :north\n",
    "                    new_values[i,j] = γ * (new_values[i-1,j]) - 1.0 # -1.0 for transition\n",
    "                elseif policy[i,j] == :south\n",
    "                    new_values[i,j] = γ * (new_values[i+1,j]) - 1.0 # -1.0 for transition\n",
    "                elseif policy[i,j] == :east\n",
    "                    new_values[i,j] = γ * (new_values[i,j+1]) - 1.0 # -1.0 for transition\n",
    "                elseif policy[i,j] == :west\n",
    "                    new_values[i,j] = γ * (new_values[i,j-1]) - 1.0 # -1.0 for transition\n",
    "                else\n",
    "                    new_values[i,j] = γ * new_values[i,j] # terminal states\n",
    "                end\n",
    "            end\n",
    "        end\n",
    "        δ   = maximum(abs(new_values[2:end-1,2:end-1] .- last_values[2:end-1,2:end-1]))\n",
    "        last_values = copy(new_values)\n",
    "    end\n",
    "    for i=2:size(V)[1] - 1\n",
    "        for j=2:size(V)[2] - 1\n",
    "            V[i,j] = new_values[i,j]\n",
    "        end\n",
    "    end\n",
    "    println(\"Number of iterations: $index, error $δ\")\n",
    "    plot_data(maze, policy, V, old_policy)    \n",
    "end"
   ]
  },
  {
   "cell_type": "markdown",
   "metadata": {},
   "source": [
    "### Experiment"
   ]
  },
  {
   "cell_type": "markdown",
   "metadata": {},
   "source": [
    "#### Initialisation & Policy iteration 1"
   ]
  },
  {
   "cell_type": "code",
   "execution_count": null,
   "metadata": {
    "collapsed": false
   },
   "outputs": [],
   "source": [
    "maze_definition = \"\n",
    "###########\n",
    "#T        #\n",
    "#   #     #\n",
    "#   #     #\n",
    "#     #   #\n",
    "#  ####   #\n",
    "#      ####\n",
    "#   #    T#\n",
    "###########\n",
    "\"\n",
    "\n",
    "state_reward_function = ['T' => 10.0, '#' => -100];\n",
    "\n",
    "maze, policy, V = create_experiment_setup(maze_definition);\n",
    "\n",
    "policy_iteration!(maze, policy, V)\n",
    "#plot_data(maze, policy, V, nothing)\n",
    "\n",
    "#println(V)\n",
    "#println(policy)"
   ]
  },
  {
   "cell_type": "markdown",
   "metadata": {},
   "source": [
    "#### Policy <i><u> evaluation </u></i> 1"
   ]
  },
  {
   "cell_type": "code",
   "execution_count": null,
   "metadata": {
    "collapsed": false,
    "scrolled": false
   },
   "outputs": [],
   "source": [
    "policy_evaluation!(maze, policy, V)"
   ]
  },
  {
   "cell_type": "markdown",
   "metadata": {},
   "source": [
    "#### Policy <i><u> iteration </u></i> 2"
   ]
  },
  {
   "cell_type": "code",
   "execution_count": null,
   "metadata": {
    "collapsed": false
   },
   "outputs": [],
   "source": [
    "policy_iteration!(maze, policy, V)"
   ]
  },
  {
   "cell_type": "markdown",
   "metadata": {},
   "source": [
    "#### Policy <i><u> evaluation </u></i> 2"
   ]
  },
  {
   "cell_type": "code",
   "execution_count": null,
   "metadata": {
    "collapsed": false
   },
   "outputs": [],
   "source": [
    "policy_evaluation!(maze, policy, V)"
   ]
  },
  {
   "cell_type": "markdown",
   "metadata": {},
   "source": [
    "#### Policy <i><u> iteration </u></i> 3"
   ]
  },
  {
   "cell_type": "code",
   "execution_count": null,
   "metadata": {
    "collapsed": false
   },
   "outputs": [],
   "source": [
    "policy_iteration!(maze, policy, V)"
   ]
  },
  {
   "cell_type": "markdown",
   "metadata": {},
   "source": [
    "#### Policy <i><u> evaluation </u></i> 3"
   ]
  },
  {
   "cell_type": "code",
   "execution_count": null,
   "metadata": {
    "collapsed": false
   },
   "outputs": [],
   "source": [
    "policy_evaluation!(maze, policy, V)"
   ]
  },
  {
   "cell_type": "markdown",
   "metadata": {},
   "source": [
    "#### Policy <i><u> iteration </u></i> 4"
   ]
  },
  {
   "cell_type": "code",
   "execution_count": null,
   "metadata": {
    "collapsed": false
   },
   "outputs": [],
   "source": [
    "policy_iteration!(maze, policy, V)"
   ]
  },
  {
   "cell_type": "markdown",
   "metadata": {},
   "source": [
    "#### Policy <i><u> evaluation </u></i> 4"
   ]
  },
  {
   "cell_type": "code",
   "execution_count": null,
   "metadata": {
    "collapsed": false
   },
   "outputs": [],
   "source": [
    "policy_evaluation!(maze, policy, V)"
   ]
  },
  {
   "cell_type": "markdown",
   "metadata": {},
   "source": [
    "#### Policy <i><u> iteration </u></i> 5"
   ]
  },
  {
   "cell_type": "code",
   "execution_count": null,
   "metadata": {
    "collapsed": false
   },
   "outputs": [],
   "source": [
    "policy_iteration!(maze, policy, V)\n"
   ]
  },
  {
   "cell_type": "markdown",
   "metadata": {},
   "source": [
    "#### Policy <i><u> evaluation </u></i> 5"
   ]
  },
  {
   "cell_type": "code",
   "execution_count": null,
   "metadata": {
    "collapsed": false
   },
   "outputs": [],
   "source": [
    "policy_evaluation!(maze, policy, V)"
   ]
  },
  {
   "cell_type": "markdown",
   "metadata": {
    "collapsed": true
   },
   "source": [
    "#### Policy iteration 6"
   ]
  },
  {
   "cell_type": "code",
   "execution_count": null,
   "metadata": {
    "collapsed": false
   },
   "outputs": [],
   "source": [
    "policy_iteration!(maze, policy, V)"
   ]
  },
  {
   "cell_type": "markdown",
   "metadata": {},
   "source": [
    "#### Policy evalution 6"
   ]
  },
  {
   "cell_type": "code",
   "execution_count": null,
   "metadata": {
    "collapsed": false
   },
   "outputs": [],
   "source": [
    "policy_evaluation!(maze, policy, V)"
   ]
  },
  {
   "cell_type": "markdown",
   "metadata": {},
   "source": [
    "#### Policy Iteration 7"
   ]
  },
  {
   "cell_type": "code",
   "execution_count": null,
   "metadata": {
    "collapsed": false
   },
   "outputs": [],
   "source": [
    "policy_iteration!(maze, policy, V)"
   ]
  },
  {
   "cell_type": "markdown",
   "metadata": {},
   "source": [
    "#### Policy Evalution 7"
   ]
  },
  {
   "cell_type": "code",
   "execution_count": null,
   "metadata": {
    "collapsed": false
   },
   "outputs": [],
   "source": [
    "policy_evaluation!(maze, policy, V)"
   ]
  },
  {
   "cell_type": "markdown",
   "metadata": {},
   "source": [
    "#### Policy Iteration 8"
   ]
  },
  {
   "cell_type": "code",
   "execution_count": null,
   "metadata": {
    "collapsed": false
   },
   "outputs": [],
   "source": [
    "policy_iteration!(maze, policy, V)"
   ]
  },
  {
   "cell_type": "markdown",
   "metadata": {},
   "source": [
    "#### Policy Evalution 8"
   ]
  },
  {
   "cell_type": "code",
   "execution_count": null,
   "metadata": {
    "collapsed": false
   },
   "outputs": [],
   "source": [
    "policy_evaluation!(maze, policy, V)"
   ]
  },
  {
   "cell_type": "markdown",
   "metadata": {},
   "source": [
    "#### Policy Iteration 9"
   ]
  },
  {
   "cell_type": "code",
   "execution_count": null,
   "metadata": {
    "collapsed": false
   },
   "outputs": [],
   "source": [
    "policy_iteration!(maze, policy, V)"
   ]
  },
  {
   "cell_type": "markdown",
   "metadata": {
    "collapsed": true
   },
   "source": [
    "#### Policy Evaluation 9"
   ]
  },
  {
   "cell_type": "code",
   "execution_count": null,
   "metadata": {
    "collapsed": false
   },
   "outputs": [],
   "source": [
    "policy_evaluation!(maze, policy, V)"
   ]
  },
  {
   "cell_type": "code",
   "execution_count": null,
   "metadata": {
    "collapsed": true
   },
   "outputs": [],
   "source": []
  },
  {
   "cell_type": "code",
   "execution_count": null,
   "metadata": {
    "collapsed": true
   },
   "outputs": [],
   "source": []
  },
  {
   "cell_type": "code",
   "execution_count": null,
   "metadata": {
    "collapsed": true
   },
   "outputs": [],
   "source": []
  }
 ],
 "metadata": {
  "kernelspec": {
   "display_name": "Julia 0.3.6",
   "language": "julia",
   "name": "julia 0.3"
  },
  "language_info": {
   "name": "julia",
   "version": "0.3.7"
  }
 },
 "nbformat": 4,
 "nbformat_minor": 0
}

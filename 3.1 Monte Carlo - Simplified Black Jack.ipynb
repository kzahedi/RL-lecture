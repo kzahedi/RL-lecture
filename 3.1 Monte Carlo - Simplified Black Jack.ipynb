{
 "cells": [
  {
   "cell_type": "code",
   "execution_count": 1,
   "metadata": {
    "collapsed": false
   },
   "outputs": [
    {
     "name": "stderr",
     "output_type": "stream",
     "text": [
      "INFO: Loading help data...\n"
     ]
    }
   ],
   "source": [
    "using PyPlot\n",
    "using StatsBase"
   ]
  },
  {
   "cell_type": "code",
   "execution_count": null,
   "metadata": {
    "collapsed": false
   },
   "outputs": [
    {
     "name": "stdout",
     "output_type": "stream",
     "text": [
      "counts (generic function with 12 methods)\n"
     ]
    }
   ],
   "source": [
    "help(counts)"
   ]
  },
  {
   "cell_type": "code",
   "execution_count": 61,
   "metadata": {
    "collapsed": false
   },
   "outputs": [
    {
     "data": {
      "text/plain": [
       "black_jack_episode_with_fixed_policy! (generic function with 1 method)"
      ]
     },
     "execution_count": 61,
     "metadata": {},
     "output_type": "execute_result"
    }
   ],
   "source": [
    "function initialise_black_jack()\n",
    "    V = zeros(12, 21)\n",
    "    C = zeros(12, 21)\n",
    "    n = zeros(12, 21)\n",
    "    return V, C, n\n",
    "end\n",
    "\n",
    "draw_a_card() = [1,10,11][int64(ceil(rand() * 3))]\n",
    "\n",
    "function next_state(\n",
    "\n",
    "function black_jack_episode_with_fixed_policy!(V::Matrix{Float64}, C::Matrix{Float64}, n::Matrix{Float64})\n",
    "    dealers_sum    = 0\n",
    "    dealer_has_ace = false\n",
    "    \n",
    "    players_sum    = 0\n",
    "    player_has_ace = false\n",
    "    \n",
    "    \n",
    "    dealers_card = int64(floor(rand() * 12))\n",
    "    if dealers_card == 11\n",
    "        dealer_has_ace = true\n",
    "    end\n",
    "\n",
    "    players_card = draw_a_card()\n",
    "    if players_card == 11\n",
    "        player_has_ace = true\n",
    "    end\n",
    "\n",
    "    dealers_sum = dealers_card\n",
    "    players_sum = players_card\n",
    "    \n",
    "    println(\"s2: $(players_sum)\")\n",
    "    \n",
    "    new_card = draw_a_card()\n",
    "    \n",
    "    if players_sum + new_card > 21 && player_has_ace == true\n",
    "        players_sum = players_sum + 1\n",
    "    else\n",
    "        players_sum = players_sum + players_card\n",
    "    end\n",
    "    println(\"s2: $(players_sum)\")\n",
    "    \n",
    "    s1 = dealers_sum + 1 # index 0 not allowed\n",
    "    s2 = players_sum\n",
    "\n",
    "    println(s1, \" \", s2)\n",
    "    \n",
    "    n[s1,s2] = n[s1,s2] + 1.0\n",
    "    \n",
    "    \n",
    "    if players_sum == 21\n",
    "        new_card = draw_a_card()\n",
    "        if new_card == 11 && dealers_sum + new_card > 21\n",
    "            dealers_sum = dealers_sum + 1\n",
    "        else\n",
    "            dealers_sum = dealers_sum + players_card\n",
    "        end\n",
    "        if dealers_sum == 21\n",
    "            # C[s1,s2] = C[s1,s2] + 0.0 # draw game\n",
    "            V[s1,s2] = C[s1,s2] / n[s1,s2]\n",
    "            return 0\n",
    "        end\n",
    "    end        \n",
    "    \n",
    "    while players_sum < 20\n",
    "        new_card = draw_a_card()\n",
    "        if new_card == 11 && players_sum + new_card > 21\n",
    "            players_sum = players_sum + 1\n",
    "        else\n",
    "            players_sum = players_sum + players_card\n",
    "        end\n",
    "    end\n",
    "    \n",
    "    if players_sum > 21\n",
    "        C[s1,s2] = C[s1,s2] - 1.0 # lost\n",
    "        V[s1,s2] = C[s1,s2] / n[s1,s2]\n",
    "        return\n",
    "    end\n",
    "    \n",
    "    while dealers_sum < 17\n",
    "        new_card = draw_a_card()\n",
    "        if new_card == 11 && dealers_sum + new_card > 21\n",
    "            dealers_sum = dealers_sum + 1\n",
    "        else\n",
    "            dealers_sum = dealers_sum + players_card\n",
    "        end\n",
    "    end\n",
    "    \n",
    "    if dealers_sum > 21 || dealers_sum < players_sum\n",
    "        C[s1,s2] = C[s1,s2] + 1.0 # win\n",
    "        V[s1,s2] = C[s1,s2] / n[s1,s2]\n",
    "        return\n",
    "    end\n",
    "    \n",
    "    # loss    \n",
    "    C[s1,s2] = C[s1,s2] - 1.0 # win\n",
    "    V[s1,s2] = C[s1,s2] / n[s1,s2]\n",
    "\n",
    "end"
   ]
  },
  {
   "cell_type": "code",
   "execution_count": 62,
   "metadata": {
    "collapsed": false
   },
   "outputs": [
    {
     "data": {
      "text/plain": [
       "11-element Array{Int64,1}:\n",
       " 328\n",
       "   0\n",
       "   0\n",
       "   0\n",
       "   0\n",
       "   0\n",
       "   0\n",
       "   0\n",
       "   0\n",
       " 357\n",
       " 315"
      ]
     },
     "execution_count": 62,
     "metadata": {},
     "output_type": "execute_result"
    }
   ],
   "source": [
    "test = [draw_a_card() for i = 1:1000];\n",
    "counts(test,1:11)"
   ]
  },
  {
   "cell_type": "code",
   "execution_count": 63,
   "metadata": {
    "collapsed": false
   },
   "outputs": [],
   "source": [
    "V, C, n = initialise_black_jack();"
   ]
  },
  {
   "cell_type": "code",
   "execution_count": 64,
   "metadata": {
    "collapsed": false
   },
   "outputs": [
    {
     "name": "stdout",
     "output_type": "stream",
     "text": [
      "s2: 11\n",
      "s2: 12\n",
      "9 12\n",
      "s2: 11\n",
      "s2: 22\n",
      "4 22\n"
     ]
    },
    {
     "ename": "LoadError",
     "evalue": "BoundsError()\nwhile loading In[64], in expression starting on line 1",
     "output_type": "error",
     "traceback": [
      "BoundsError()\nwhile loading In[64], in expression starting on line 1",
      "",
      " in black_jack_episode_with_fixed_policy! at In[61]:37",
      " in anonymous at no file:2"
     ]
    }
   ],
   "source": [
    "for i=1:1000\n",
    "    black_jack_episode_with_fixed_policy!(V,C,n)\n",
    "end"
   ]
  },
  {
   "cell_type": "code",
   "execution_count": 65,
   "metadata": {
    "collapsed": false
   },
   "outputs": [
    {
     "data": {
      "image/png": "[encoded data removed]",
      "text/plain": [
       "Figure(PyObject <matplotlib.figure.Figure object at 0x120fb23d0>)"
      ]
     },
     "metadata": {},
     "output_type": "display_data"
    },
    {
     "data": {
      "text/plain": [
       "PyObject <matplotlib.colorbar.Colorbar instance at 0x1214e6050>"
      ]
     },
     "execution_count": 65,
     "metadata": {},
     "output_type": "execute_result"
    }
   ],
   "source": [
    "colorbar(imshow(V, interpolation=\"none\"))"
   ]
  },
  {
   "cell_type": "code",
   "execution_count": null,
   "metadata": {
    "collapsed": true
   },
   "outputs": [],
   "source": []
  }
 ],
 "metadata": {
  "kernelspec": {
   "display_name": "Julia 0.3.7",
   "language": "julia",
   "name": "julia 0.3"
  },
  "language_info": {
   "name": "julia",
   "version": "0.3.7"
  }
 },
 "nbformat": 4,
 "nbformat_minor": 0
}

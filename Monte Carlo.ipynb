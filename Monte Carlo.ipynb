{
 "cells": [
  {
   "cell_type": "code",
   "execution_count": 1,
   "metadata": {
    "collapsed": false
   },
   "outputs": [
    {
     "name": "stderr",
     "output_type": "stream",
     "text": [
      "INFO: Loading help data...\n"
     ]
    }
   ],
   "source": [
    "using PyPlot"
   ]
  },
  {
   "cell_type": "code",
   "execution_count": 18,
   "metadata": {
    "collapsed": false
   },
   "outputs": [],
   "source": [
    "transition_matrix = { \n",
    "    \n",
    "    (1,:north) => [5, 2, 1],\n",
    "    (1,:east)  => [1, 5, 1],\n",
    "    (1,:south) => [1, 2, 1],\n",
    "    (1,:west)  => [2, 5, 1],\n",
    "    \n",
    "    (2,:north) => [6, 2, 3],\n",
    "    (2,:east)  => [1, 6, 2],\n",
    "    (2,:south) => [2, 3, 1],\n",
    "    (2,:west)  => [3, 6, 2],\n",
    "\n",
    "    (3,:north) => [3, 4, 2],\n",
    "    (3,:east)  => [2, 3, 3],\n",
    "    (3,:south) => [3, 4, 2],\n",
    "    (3,:west)  => [4, 3, 3],\n",
    "\n",
    "    (4,:north) => [7, 3, 4],\n",
    "    (4,:east)  => [3, 7, 4],\n",
    "    (4,:south) => [4, 3, 4],\n",
    "    (4,:west)  => [4, 4, 7],\n",
    "\n",
    "    (5,:north) => [5, 5, 5],\n",
    "    (5,:east)  => [5, 5, 5],\n",
    "    (5,:south) => [5, 5, 5],\n",
    "    (5,:west)  => [5, 5, 5],\n",
    "\n",
    "    (6,:north) => [9, 5, 6],\n",
    "    (6,:east)  => [5, 9, 2],\n",
    "    (6,:south) => [2, 5, 6],\n",
    "    (6,:west)  => [6, 9, 2],\n",
    "\n",
    "    (7,:north) => [11, 7, 7],\n",
    "    (7,:east)  => [7, 11, 4],\n",
    "    (7,:south) => [4, 7, 7],\n",
    "    (7,:west)  => [7, 4, 11],\n",
    "\n",
    "    (8,:north) => [8, 8, 8],\n",
    "    (8,:east)  => [8, 8, 8],\n",
    "    (8,:south) => [8, 8, 8],\n",
    "    (8,:west)  => [8, 8, 8],\n",
    "\n",
    "    (9,:north) => [9, 8, 10],\n",
    "    (9,:east)  => [8, 6, 9],\n",
    "    (9,:south) => [6, 10, 8],\n",
    "    (9,:west)  => [10, 9, 6],\n",
    "\n",
    "    (10,:north) => [10, 11, 9],\n",
    "    (10,:east)  => [9, 10, 10],\n",
    "    (10,:south) => [10, 11, 9],\n",
    "    (10,:west)  => [11, 10, 10],\n",
    "\n",
    "    (11,:north) => [11, 10, 11],\n",
    "    (11,:east)  => [10, 11, 7],\n",
    "    (11,:south) => [7, 11, 10],\n",
    "    (11,:west)  => [11, 11, 7] \n",
    "};\n"
   ]
  },
  {
   "cell_type": "code",
   "execution_count": 161,
   "metadata": {
    "collapsed": true
   },
   "outputs": [],
   "source": [
    "actions = [:north, :east, :south, :west];"
   ]
  },
  {
   "cell_type": "code",
   "execution_count": 282,
   "metadata": {
    "collapsed": true
   },
   "outputs": [],
   "source": [
    "reward_function=[0,0,0,0,-1,0,0,0,0,0,0];"
   ]
  },
  {
   "cell_type": "code",
   "execution_count": 299,
   "metadata": {
    "collapsed": true
   },
   "outputs": [],
   "source": [
    "probabilities = [0.8, 0.1, 0.1];"
   ]
  },
  {
   "cell_type": "code",
   "execution_count": 300,
   "metadata": {
    "collapsed": false
   },
   "outputs": [],
   "source": [
    "function transition(state::Int64, action::Symbol)\n",
    "    possible_states = transition_matrix[(state,action)]\n",
    "    p = rand()\n",
    "    if p < probabilities[1]\n",
    "        return possible_states[1]\n",
    "    elseif p < probabilities[1] + probabilities[2]\n",
    "        return possible_states[2]\n",
    "    else\n",
    "        return possible_states[3]\n",
    "    end\n",
    "end;"
   ]
  },
  {
   "cell_type": "code",
   "execution_count": 301,
   "metadata": {
    "collapsed": false
   },
   "outputs": [
    {
     "data": {
      "text/plain": [
       "get_action_from_policy (generic function with 1 method)"
      ]
     },
     "execution_count": 301,
     "metadata": {},
     "output_type": "execute_result"
    }
   ],
   "source": [
    "function get_action_from_policy(p::Matrix{Float64}, state::Int64)\n",
    "    p       = rand()\n",
    "    prop    = 0.0\n",
    "    action  = -1\n",
    "    for i = 1:4\n",
    "        prop = prop + policy[state, i]\n",
    "        if p <= prop\n",
    "            action = i\n",
    "            break\n",
    "        end\n",
    "    end\n",
    "    return actions[action]\n",
    "end;"
   ]
  },
  {
   "cell_type": "code",
   "execution_count": 302,
   "metadata": {
    "collapsed": false
   },
   "outputs": [
    {
     "data": {
      "text/plain": [
       "monte_carlo_generate_episode (generic function with 1 method)"
      ]
     },
     "execution_count": 302,
     "metadata": {},
     "output_type": "execute_result"
    }
   ],
   "source": [
    "function monte_carlo_generate_episode(initial_state::Int64, episode_length::Int64, policy::Matrix)\n",
    "    sum_of_rewards        = 0\n",
    "    sequence_of_states    = int(zeros(episode_length+1))\n",
    "    sequence_of_states[1] = initial_state\n",
    "    state                 = initial_state\n",
    "    for i = 1:episode_length\n",
    "        action         = get_action_from_policy(policy, state)\n",
    "        next_state     = transition(state, action)\n",
    "        sum_of_rewards = sum_of_rewards + reward_function[next_state]\n",
    "        state          = next_state\n",
    "        sequence_of_states[i+1] = state\n",
    "    end\n",
    "    return (sum_of_rewards, sequence_of_states)\n",
    "end"
   ]
  },
  {
   "cell_type": "code",
   "execution_count": 303,
   "metadata": {
    "collapsed": false
   },
   "outputs": [
    {
     "data": {
      "text/plain": [
       "monte_carlo_policy_evalution! (generic function with 1 method)"
      ]
     },
     "execution_count": 303,
     "metadata": {},
     "output_type": "execute_result"
    }
   ],
   "source": [
    "function monte_carlo_policy_evalution!(\n",
    "    nr_of_evaluations::Int64,\n",
    "    episode_length::Int64,\n",
    "    policy::Matrix,\n",
    "    values::Vector{Float64},\n",
    "    sums::Vector{Float64},\n",
    "    counts::Vector{Float64})\n",
    "    for i = 1:nr_of_evaluations\n",
    "        initial_state = int(ceil(rand() * 11))\n",
    "        results               = monte_carlo_generate_episode(initial_state, episode_length, policy)\n",
    "        sums[initial_state]   = sums[initial_state] + results[1]\n",
    "        counts[initial_state] = counts[initial_state] + 1.0\n",
    "        values[initial_state] = sums[initial_state] / counts[initial_state]\n",
    "    end\n",
    "end"
   ]
  },
  {
   "cell_type": "code",
   "execution_count": 304,
   "metadata": {
    "collapsed": false
   },
   "outputs": [
    {
     "data": {
      "text/plain": [
       "monte_carlo_policy_iteration! (generic function with 2 methods)"
      ]
     },
     "execution_count": 304,
     "metadata": {},
     "output_type": "execute_result"
    }
   ],
   "source": [
    "function get_best_actions(values::Vector{Float64})\n",
    "    best_actions = int(zeros(11))\n",
    "    for state = 1:11\n",
    "        best_action = -1\n",
    "        best_value  = nothing\n",
    "        for action = 1:4\n",
    "            next_states = transition_matrix[(state, actions[action])]\n",
    "            for index = 1:3\n",
    "                next_value = probabilities[index] * values[next_states[index]]\n",
    "                if best_value == nothing || next_value > best_value\n",
    "                    best_value  = next_value\n",
    "                    best_action = action\n",
    "                end\n",
    "            end            \n",
    "        end\n",
    "        best_actions[state] = best_action\n",
    "    end\n",
    "    best_actions\n",
    "end\n",
    "\n",
    "function monte_carlo_policy_iteration!(values::Vector{Float64}, policy::Matrix{Float64})\n",
    "    best_actions = get_best_actions(values)\n",
    "    for state = 1:11\n",
    "        for action = 1:4\n",
    "            policy[state,action] = 0.05\n",
    "        end\n",
    "        policy[state,best_actions[state]] = 0.85\n",
    "    end\n",
    "end"
   ]
  },
  {
   "cell_type": "code",
   "execution_count": 307,
   "metadata": {
    "collapsed": true
   },
   "outputs": [],
   "source": [
    "policy = ones(11,4) .* 1/4\n",
    "values = zeros(11);\n",
    "sums   = zeros(11);\n",
    "counts = zeros(11);"
   ]
  },
  {
   "cell_type": "code",
   "execution_count": 310,
   "metadata": {
    "collapsed": false
   },
   "outputs": [
    {
     "name": "stdout",
     "output_type": "stream",
     "text": [
      "policy:\n",
      "[0.85 0.05 0.05 0.05\n",
      " 0.85 0.05 0.05 0.05\n",
      " 0.85 0.05 0.05 0.05\n",
      " 0.05 0.85 0.05 0.05\n",
      " 0.85 0.05 0.05 0.05\n",
      " 0.05 0.85 0.05 0.05\n",
      " 0.05 0.85 0.05 0.05\n",
      " 0.85 0.05 0.05 0.05\n",
      " 0.85 0.05 0.05 0.05\n",
      " 0.85 0.05 0.05 0.05\n",
      " 0.85 0.05 0.05 0.05]\n",
      "values: [-9.071340176166558,-6.300551004132531,-2.0544924971426464,-1.327946177191122,-10.0,-8.082690228535212,-0.2330920523506617,0.0,-0.9146853657645813,-0.2565728482960656,-0.11113144028103045]\n"
     ]
    }
   ],
   "source": [
    "for i = 1:10000\n",
    "    monte_carlo_policy_evalution!(10, 10, policy, values, sums, counts)\n",
    "    monte_carlo_policy_iteration!(values,policy)\n",
    "end\n",
    "println(\"policy:\\n$policy\")\n",
    "println(\"values: $values\")"
   ]
  },
  {
   "cell_type": "code",
   "execution_count": 309,
   "metadata": {
    "collapsed": false
   },
   "outputs": [
    {
     "name": "stdout",
     "output_type": "stream",
     "text": [
      "policy:\n",
      "[0.85 0.05 0.05 0.05\n",
      " 0.85 0.05 0.05 0.05\n",
      " 0.85 0.05 0.05 0.05\n",
      " 0.05 0.85 0.05 0.05\n",
      " 0.85 0.05 0.05 0.05\n",
      " 0.05 0.85 0.05 0.05\n",
      " 0.05 0.85 0.05 0.05\n",
      " 0.85 0.05 0.05 0.05\n",
      " 0.85 0.05 0.05 0.05\n",
      " 0.85 0.05 0.05 0.05\n",
      " 0.85 0.05 0.05 0.05]\n",
      "values: [-9.069116360454943,-6.264213682202235,-2.0597047929681023,-1.345013918454233,-10.0,-8.101603083282132,-0.21792005235316572,0.0,-0.9203554476211503,-0.25563238902520635,-0.1277783860724844]\n"
     ]
    }
   ],
   "source": [
    "for i = 1:10000\n",
    "    monte_carlo_policy_evalution!(10, 10, policy, values, sums, counts)\n",
    "    monte_carlo_policy_iteration!(values,policy)\n",
    "end\n",
    "println(\"policy:\\n$policy\")\n",
    "println(\"values: $values\")"
   ]
  },
  {
   "cell_type": "code",
   "execution_count": null,
   "metadata": {
    "collapsed": true
   },
   "outputs": [],
   "source": []
  },
  {
   "cell_type": "code",
   "execution_count": null,
   "metadata": {
    "collapsed": true
   },
   "outputs": [],
   "source": []
  }
 ],
 "metadata": {
  "kernelspec": {
   "display_name": "Julia 0.3.8",
   "language": "julia",
   "name": "julia-0.3"
  },
  "language_info": {
   "name": "julia",
   "version": "0.3.8"
  }
 },
 "nbformat": 4,
 "nbformat_minor": 0
}

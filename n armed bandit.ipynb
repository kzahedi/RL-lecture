{
 "cells": [
  {
   "cell_type": "code",
   "execution_count": null,
   "metadata": {
    "collapsed": false
   },
   "outputs": [],
   "source": [
    "using PyPlot"
   ]
  },
  {
   "cell_type": "code",
   "execution_count": null,
   "metadata": {
    "collapsed": false
   },
   "outputs": [],
   "source": [
    "function draw_action_values(n::Int64)\n",
    "    return [randn() for i=1:n]\n",
    "end"
   ]
  },
  {
   "cell_type": "code",
   "execution_count": null,
   "metadata": {
    "collapsed": false
   },
   "outputs": [],
   "source": [
    "Q_star = draw_action_values(10)"
   ]
  },
  {
   "cell_type": "code",
   "execution_count": null,
   "metadata": {
    "collapsed": false
   },
   "outputs": [],
   "source": [
    "randomise_action_value(value::Float64) = value + randn()"
   ]
  },
  {
   "cell_type": "code",
   "execution_count": null,
   "metadata": {
    "collapsed": false
   },
   "outputs": [],
   "source": [
    "[randomise_action_value(v) for v in Q_star]"
   ]
  },
  {
   "cell_type": "code",
   "execution_count": null,
   "metadata": {
    "collapsed": false
   },
   "outputs": [],
   "source": [
    "for i = 1:10\n",
    "    println(randomise_action_value(Q_star[1]))\n",
    "end"
   ]
  },
  {
   "cell_type": "code",
   "execution_count": null,
   "metadata": {
    "collapsed": false
   },
   "outputs": [],
   "source": [
    "function ϵ_greedy(ϵ::Float64, Q::Vector{Float64})\n",
    "    action = nothing\n",
    "    if rand() >= ϵ || ϵ == 0.0\n",
    "        # get the highest estimated value\n",
    "        max_Q            = maximum(Q)\n",
    "        # get the list of actions with the highest value\n",
    "        possible_actions = findin(Q,max_Q)\n",
    "        # chose randomly from the list of actions with the highest values\n",
    "        action           = possible_actions[ceil(rand() * length(possible_actions))]\n",
    "    else\n",
    "        # chose randomly from all actions\n",
    "        action = ceil(rand() * length(Q))\n",
    "    end\n",
    "    return action\n",
    "end"
   ]
  },
  {
   "cell_type": "code",
   "execution_count": null,
   "metadata": {
    "collapsed": false
   },
   "outputs": [],
   "source": [
    "greedy(Q::Vector{Float64}) = ϵ_greedy(0.0, Q)"
   ]
  },
  {
   "cell_type": "code",
   "execution_count": null,
   "metadata": {
    "collapsed": false
   },
   "outputs": [],
   "source": [
    "function evaluate_method(method::Function, nr_of_actions::Int64, nr_of_plays::Int64, nr_of_trials::Int64)\n",
    "    average_reward_per_action = zeros(nr_of_plays, nr_of_trials)\n",
    "    percentage_of_best_action = zeros(nr_of_plays, nr_of_trials)\n",
    "    for t = 1:nr_of_trials\n",
    "        # draw Q^*(a) and sort it, so that action 1 is always the best\n",
    "        Q_star = sort(draw_action_values(nr_of_actions), rev=true) # ground truth\n",
    "        Q_est  = zeros(nr_of_actions) # estimated action-values\n",
    "        Q_sum  = zeros(nr_of_actions) # sum of all rewards for each action\n",
    "        k_a    = zeros(nr_of_actions) # counts of times action a was chosen\n",
    "        for p = 1:nr_of_plays\n",
    "            selected_action = method(Q_est)\n",
    "            k_a[selected_action]   = k_a[selected_action] + 1.0\n",
    "            randomised_action_value = Q_star[selected_action] + randn()\n",
    "            Q_sum[selected_action] = Q_sum[selected_action] + randomised_action_value\n",
    "            Q_est[selected_action] = Q_sum[selected_action] / k_a[selected_action]\n",
    "            average_reward_per_action[p,t] = randomised_action_value\n",
    "            percentage_of_best_action[p,t] = (selected_action == 1)?1:0\n",
    "        end\n",
    "    end\n",
    "    return mean(average_reward_per_action,2), mean(percentage_of_best_action,2)\n",
    "end"
   ]
  },
  {
   "cell_type": "code",
   "execution_count": null,
   "metadata": {
    "collapsed": false
   },
   "outputs": [],
   "source": [
    "a_greedy,p_greedy=evaluate_method(greedy, 10, 1000, 2000);\n",
    "\n",
    "ϵ_greedy_with_001(Q::Vector{Float64})=ϵ_greedy(0.01, Q)\n",
    "a_ϵ_001,p_ϵ_001=evaluate_method(ϵ_greedy_with_001, 10, 1000, 2000);\n",
    "\n",
    "ϵ_greedy_with_01(Q::Vector{Float64})=ϵ_greedy(0.1, Q)\n",
    "a_ϵ_01,p_ϵ_01=evaluate_method(ϵ_greedy_with_01, 10, 1000, 2000);"
   ]
  },
  {
   "cell_type": "code",
   "execution_count": null,
   "metadata": {
    "collapsed": false
   },
   "outputs": [],
   "source": [
    "pg    = plot(a_greedy)\n",
    "p_001 = plot(a_ϵ_001)\n",
    "p_01  = plot(a_ϵ_01)\n",
    "legend( [pg,p_001,p_01], [\"greedy\", \"e = 0.01\", \"e = 0.1\"], loc=4)"
   ]
  },
  {
   "cell_type": "code",
   "execution_count": null,
   "metadata": {
    "collapsed": false
   },
   "outputs": [],
   "source": [
    "pg    = plot(p_greedy)\n",
    "p_001 = plot(p_ϵ_001)\n",
    "p_01  = plot(p_ϵ_01)\n",
    "legend( [pg,p_001,p_01], [\"greedy\", \"e = 0.01\", \"e = 0.1\"], loc=4)"
   ]
  },
  {
   "cell_type": "code",
   "execution_count": null,
   "metadata": {
    "collapsed": true
   },
   "outputs": [],
   "source": []
  }
 ],
 "metadata": {
  "kernelspec": {
   "display_name": "Julia 0.3.6",
   "language": "julia",
   "name": "julia 0.3"
  },
  "language_info": {
   "name": "julia",
   "version": "0.3.6"
  }
 },
 "nbformat": 4,
 "nbformat_minor": 0
}
